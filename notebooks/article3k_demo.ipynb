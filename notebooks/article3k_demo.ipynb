{
  "nbformat": 4,
  "nbformat_minor": 0,
  "metadata": {
    "colab": {
      "name": "article3k_demo.ipynb",
      "provenance": [],
      "authorship_tag": "ABX9TyMd3yiDXSg+X5l+8kMlEK8p",
      "include_colab_link": true
    },
    "kernelspec": {
      "name": "python3",
      "display_name": "Python 3"
    },
    "language_info": {
      "name": "python"
    }
  },
  "cells": [
    {
      "cell_type": "markdown",
      "metadata": {
        "id": "view-in-github",
        "colab_type": "text"
      },
      "source": [
        "<a href=\"https://colab.research.google.com/github/CALDISS-AAU/sdsphd21/blob/master/notebooks/article3k_demo.ipynb\" target=\"_parent\"><img src=\"https://colab.research.google.com/assets/colab-badge.svg\" alt=\"Open In Colab\"/></a>"
      ]
    },
    {
      "cell_type": "code",
      "metadata": {
        "colab": {
          "base_uri": "https://localhost:8080/"
        },
        "id": "LCpWqX_tSZ0k",
        "outputId": "1fd561ac-b9dc-4c05-e236-92876328290b"
      },
      "source": [
        "!pip install newspaper3k -q"
      ],
      "execution_count": 1,
      "outputs": [
        {
          "output_type": "stream",
          "name": "stdout",
          "text": [
            "\u001b[K     |████████████████████████████████| 211 kB 8.7 MB/s \n",
            "\u001b[K     |████████████████████████████████| 7.4 MB 19.1 MB/s \n",
            "\u001b[K     |████████████████████████████████| 81 kB 10.2 MB/s \n",
            "\u001b[K     |████████████████████████████████| 87 kB 7.1 MB/s \n",
            "\u001b[?25h  Building wheel for tinysegmenter (setup.py) ... \u001b[?25l\u001b[?25hdone\n",
            "  Building wheel for feedfinder2 (setup.py) ... \u001b[?25l\u001b[?25hdone\n",
            "  Building wheel for jieba3k (setup.py) ... \u001b[?25l\u001b[?25hdone\n",
            "  Building wheel for sgmllib3k (setup.py) ... \u001b[?25l\u001b[?25hdone\n"
          ]
        }
      ]
    },
    {
      "cell_type": "code",
      "metadata": {
        "id": "zRYWipqGStSB"
      },
      "source": [
        "from newspaper import Article\n",
        "\n",
        "url = 'https://www.dr.dk/nyheder/udland/ny-coronavariant-vaekker-bekymring-alle-fly-fra-den-sydlige-del-af-afrika-boer'\n",
        "article = Article(url)\n"
      ],
      "execution_count": 11,
      "outputs": []
    },
    {
      "cell_type": "code",
      "metadata": {
        "id": "eioGcPKQS07r"
      },
      "source": [
        "article.download()"
      ],
      "execution_count": 12,
      "outputs": []
    },
    {
      "cell_type": "code",
      "metadata": {
        "id": "PKiSkYElS5s8"
      },
      "source": [
        "article.parse()"
      ],
      "execution_count": 13,
      "outputs": []
    },
    {
      "cell_type": "code",
      "metadata": {
        "colab": {
          "base_uri": "https://localhost:8080/"
        },
        "id": "-6EonSbsTCEj",
        "outputId": "6e624a36-3c94-452d-da50-100a876cec97"
      },
      "source": [
        "article.publish_date"
      ],
      "execution_count": 14,
      "outputs": [
        {
          "output_type": "execute_result",
          "data": {
            "text/plain": [
              "datetime.datetime(2021, 11, 26, 9, 57, tzinfo=tzlocal())"
            ]
          },
          "metadata": {},
          "execution_count": 14
        }
      ]
    },
    {
      "cell_type": "code",
      "metadata": {
        "colab": {
          "base_uri": "https://localhost:8080/",
          "height": 172
        },
        "id": "dhLhkWhETIJf",
        "outputId": "22035d5b-793f-4e62-c8ba-9b7398f9d6b5"
      },
      "source": [
        "article.text"
      ],
      "execution_count": 15,
      "outputs": [
        {
          "output_type": "execute_result",
          "data": {
            "application/vnd.google.colaboratory.intrinsic+json": {
              "type": "string"
            },
            "text/plain": [
              "'\\'Alle fly bør standses\\'\\n\\nI EU vækker den nye variant også bekymring. Europa-Kommissionens formand, Ursula von der Leyen, opfordrer til, at alle fly, der er på vej fra den sydlige del af Afrika til EU-landene, bliver standset.\\n\\nI et tweet fredag morgen skriver von der Leyen, at Europa-Kommissionen i \"tæt samarbejde med medlemslandene vil foreslå at aktivere nødbremsen for at stoppe al flytrafik fra den sydlige afrikanske region som følge af den coronavariant, der vækker bekymring, B.1.1.529\".\\n\\nDet er op til myndighederne i de enkelte medlemslande at beslutte, om der skal indføres et indrejseforbud eller ej.\\n\\nKort efter von der Leyens udmelding meddelte den italienske sundhedsminister, at Italien har forbudt fly fra de seks afrikanske lande.\\n\\n- Vores forskere undersøger den nye B.1.1.529 variant. I mellemtiden vil vi indføre den størst mulige forsigtighed, siger Roberto Speranza.\\n\\nOgså Tjekkiet og Holland har indført forbud mod fly fra de seks lande.'"
            ]
          },
          "metadata": {},
          "execution_count": 15
        }
      ]
    },
    {
      "cell_type": "code",
      "metadata": {
        "id": "Espfx7kGTaeB"
      },
      "source": [
        ""
      ],
      "execution_count": null,
      "outputs": []
    }
  ]
}