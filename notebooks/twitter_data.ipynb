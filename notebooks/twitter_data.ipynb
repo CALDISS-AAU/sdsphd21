{
 "cells": [
  {
   "cell_type": "markdown",
   "id": "bc414c67",
   "metadata": {
    "slideshow": {
     "slide_type": "slide"
    }
   },
   "source": [
    "# Sifting through Twitter data\n",
    "\n",
    "Let us put regex search to some real use. We download a selection of tweets from Twitter mentioning the hashtag '#metoo'.\n",
    "\n",
    "Download [this file](https://gist.githubusercontent.com/ThomasA/9c524894e17d56b211c51cdc34c404ca/raw/8cfade6dbe859999dcfaaba3cc5d96f46cd43da9/twitter.csv):\n"
   ]
  },
  {
   "cell_type": "code",
   "execution_count": null,
   "id": "7e0c858a",
   "metadata": {
    "slideshow": {
     "slide_type": "-"
    }
   },
   "outputs": [],
   "source": [
    "!wget https://gist.githubusercontent.com/ThomasA/9c524894e17d56b211c51cdc34c404ca/raw/8cfade6dbe859999dcfaaba3cc5d96f46cd43da9/twitter.csv"
   ]
  },
  {
   "cell_type": "code",
   "execution_count": null,
   "id": "8895679e",
   "metadata": {
    "slideshow": {
     "slide_type": "subslide"
    }
   },
   "outputs": [],
   "source": [
    "import pandas\n",
    "\n",
    "twitter = pandas.read_csv('twitter.csv')\n",
    "\n",
    "twitter"
   ]
  },
  {
   "cell_type": "markdown",
   "id": "b8dc825c",
   "metadata": {
    "slideshow": {
     "slide_type": "subslide"
    }
   },
   "source": [
    "Find tweets with the word 'køn':"
   ]
  },
  {
   "cell_type": "code",
   "execution_count": null,
   "id": "cd5ecd1c",
   "metadata": {
    "scrolled": true,
    "slideshow": {
     "slide_type": "-"
    }
   },
   "outputs": [],
   "source": [
    "import re\n",
    "\n",
    "for text in twitter['text']:\n",
    "    match = re.search(r'køn', text)\n",
    "    if match:\n",
    "        print(match.group())"
   ]
  },
  {
   "cell_type": "markdown",
   "id": "b99e9c5d",
   "metadata": {
    "slideshow": {
     "slide_type": "subslide"
    }
   },
   "source": [
    "Find tweets that retweet someone:"
   ]
  },
  {
   "cell_type": "code",
   "execution_count": null,
   "id": "132b4974",
   "metadata": {
    "slideshow": {
     "slide_type": "-"
    }
   },
   "outputs": [],
   "source": [
    "for text in twitter['text']:\n",
    "    match = re.search(r'RT \\@[A-Za-z0-9]+', text)\n",
    "    if match:\n",
    "        print(match.group())"
   ]
  },
  {
   "cell_type": "markdown",
   "id": "d44b2e93",
   "metadata": {
    "slideshow": {
     "slide_type": "subslide"
    }
   },
   "source": [
    "Find tweets that retweet someone *and* are tagged '#dkpol':"
   ]
  },
  {
   "cell_type": "code",
   "execution_count": null,
   "id": "2e56334c",
   "metadata": {
    "slideshow": {
     "slide_type": "-"
    }
   },
   "outputs": [],
   "source": [
    "for text in twitter['text']:\n",
    "    match = re.search(r'RT \\@[A-Za-z0-9]+.+\\#dkpol', text)\n",
    "    if match:\n",
    "        print(match.group())"
   ]
  },
  {
   "cell_type": "markdown",
   "id": "b12f4ea8",
   "metadata": {
    "slideshow": {
     "slide_type": "subslide"
    }
   },
   "source": [
    "Find tweets that are tagged '#dkpol' *or* '#ligestilling':"
   ]
  },
  {
   "cell_type": "code",
   "execution_count": null,
   "id": "7f302045",
   "metadata": {
    "slideshow": {
     "slide_type": "-"
    }
   },
   "outputs": [],
   "source": [
    "for text in twitter['text']:\n",
    "    match = re.search(r'\\#dkpol|\\#ligestilling', text)\n",
    "    if match:\n",
    "        print(match.group())"
   ]
  },
  {
   "cell_type": "markdown",
   "id": "5c4f4bce",
   "metadata": {
    "slideshow": {
     "slide_type": "subslide"
    }
   },
   "source": [
    "# Building numerical data to analyse\n",
    "\n",
    "As an example of numerical data that NumPy is an excellent solution for, let us build a matrix of which Twitter users mention which other users and how often, from our Twitter data set.\n",
    "\n",
    "### Exercise: Finding Twitter user names\n",
    "\n",
    "Quoting from [Twitter](https://help.twitter.com/en/managing-your-account/twitter-username-rules):\n",
    "> Your username cannot be longer than 15 characters. Your name can be longer (50 characters) or shorter than 4 characters, but usernames are kept shorter for the sake of ease.  \n",
    "> A username can only contain alphanumeric characters (letters A-Z, numbers 0-9) with the exception of underscores, as noted above. Check to make sure your desired username doesn't contain any symbols, dashes, or spaces.\n",
    "\n",
    "- Compose a regex that can match valid Twitter user names, in a context where they start by '@'\n",
    "- Test it using `re.search`\n",
    "  - Should match for example '@ThomasArildsen', '@SiGnE14', '@_Kristian'\n",
    "  - Should not match '@Thomas+', '@Signe@AAU', '@ThomasArildsen_AAU'"
   ]
  },
  {
   "cell_type": "code",
   "execution_count": null,
   "id": "18dd96a8",
   "metadata": {
    "execution": {
     "iopub.execute_input": "2021-11-17T10:20:11.024835Z",
     "iopub.status.busy": "2021-11-17T10:20:11.024335Z",
     "iopub.status.idle": "2021-11-17T10:20:11.033278Z",
     "shell.execute_reply": "2021-11-17T10:20:11.032395Z",
     "shell.execute_reply.started": "2021-11-17T10:20:11.024788Z"
    },
    "slideshow": {
     "slide_type": "slide"
    },
    "tags": []
   },
   "outputs": [],
   "source": [
    "import re\n",
    "\n",
    "re.search(r'(?<=\\@)\\w{1,15}(?!\\w)', '@ThomasArildsen ', flags=re.A)"
   ]
  },
  {
   "cell_type": "code",
   "execution_count": null,
   "id": "e2016ea1",
   "metadata": {
    "execution": {
     "iopub.execute_input": "2021-11-17T10:21:21.042744Z",
     "iopub.status.busy": "2021-11-17T10:21:21.042371Z",
     "iopub.status.idle": "2021-11-17T10:21:21.047200Z",
     "shell.execute_reply": "2021-11-17T10:21:21.046334Z",
     "shell.execute_reply.started": "2021-11-17T10:21:21.042719Z"
    },
    "slideshow": {
     "slide_type": "-"
    },
    "tags": []
   },
   "outputs": [],
   "source": [
    "re.search(r'(?<=\\@)\\w{1,15}(?!\\w)', '@ThomasArildsen_AAU', flags=re.A)"
   ]
  },
  {
   "cell_type": "code",
   "execution_count": null,
   "id": "848efac3",
   "metadata": {
    "slideshow": {
     "slide_type": "-"
    }
   },
   "outputs": [],
   "source": [
    "valid_user_ex = r'(?<=\\@)\\w{1,15}(?!\\w)'"
   ]
  },
  {
   "cell_type": "markdown",
   "id": "246dc86a",
   "metadata": {
    "slideshow": {
     "slide_type": "subslide"
    }
   },
   "source": [
    "How many unique (tweeting) users are among the tweets?"
   ]
  },
  {
   "cell_type": "code",
   "execution_count": null,
   "id": "efb37c36",
   "metadata": {
    "slideshow": {
     "slide_type": "-"
    }
   },
   "outputs": [],
   "source": [
    "unique_tweeters = twitter['from_user_name'].unique()\n",
    "unique_tweeters"
   ]
  },
  {
   "cell_type": "code",
   "execution_count": null,
   "id": "79b94a10",
   "metadata": {
    "slideshow": {
     "slide_type": "-"
    }
   },
   "outputs": [],
   "source": [
    "type(unique_tweeters)"
   ]
  },
  {
   "cell_type": "markdown",
   "id": "d2dcea75",
   "metadata": {
    "slideshow": {
     "slide_type": "-"
    }
   },
   "source": [
    "When we perform operations like this on Pandas dataframes, we actually get a NumPy array as a result."
   ]
  },
  {
   "cell_type": "markdown",
   "id": "b71b6f49",
   "metadata": {
    "slideshow": {
     "slide_type": "slide"
    }
   },
   "source": [
    "# NumPy arrays\n",
    "\n",
    "Sometimes we need to work on large amounts of numerical data.\n",
    "\n",
    "NumPy provides a fundamental building block efficiently storing and processing numerical data in Python:"
   ]
  },
  {
   "cell_type": "code",
   "execution_count": null,
   "id": "014b191a",
   "metadata": {
    "slideshow": {
     "slide_type": "-"
    }
   },
   "outputs": [],
   "source": [
    "import numpy as np"
   ]
  },
  {
   "cell_type": "markdown",
   "id": "7fd6dc7c",
   "metadata": {
    "slideshow": {
     "slide_type": "subslide"
    }
   },
   "source": [
    "### Inspecting NumPy arrays\n",
    "\n",
    "We can inspect properties such as shape and size of an array:"
   ]
  },
  {
   "cell_type": "code",
   "execution_count": null,
   "id": "2df684c4",
   "metadata": {
    "slideshow": {
     "slide_type": "-"
    }
   },
   "outputs": [],
   "source": [
    "unique_tweeters.shape"
   ]
  },
  {
   "cell_type": "code",
   "execution_count": null,
   "id": "dcf3297e",
   "metadata": {
    "slideshow": {
     "slide_type": "-"
    }
   },
   "outputs": [],
   "source": [
    "unique_tweeters.size"
   ]
  },
  {
   "cell_type": "markdown",
   "id": "b6514d0b",
   "metadata": {
    "slideshow": {
     "slide_type": "subslide"
    }
   },
   "source": [
    "Let us find all the mentioned usernames:"
   ]
  },
  {
   "cell_type": "code",
   "execution_count": null,
   "id": "f859845c",
   "metadata": {
    "slideshow": {
     "slide_type": "-"
    }
   },
   "outputs": [],
   "source": [
    "tweetees = []\n",
    "\n",
    "for text in twitter['text']:\n",
    "    for user in re.finditer(valid_user_ex, text):\n",
    "        tweetees.append(user.group())\n",
    "        \n",
    "tweetees"
   ]
  },
  {
   "cell_type": "code",
   "execution_count": null,
   "id": "2a8c51ec",
   "metadata": {
    "slideshow": {
     "slide_type": "subslide"
    }
   },
   "outputs": [],
   "source": [
    "unique_tweetees = pandas.Series(tweetees).unique()\n",
    "unique_tweetees"
   ]
  },
  {
   "cell_type": "code",
   "execution_count": null,
   "id": "fe32e022",
   "metadata": {
    "slideshow": {
     "slide_type": "-"
    }
   },
   "outputs": [],
   "source": [
    "unique_tweetees.size"
   ]
  },
  {
   "cell_type": "markdown",
   "id": "57f75030",
   "metadata": {
    "slideshow": {
     "slide_type": "fragment"
    }
   },
   "source": [
    "Let us build a reduced set of those users who both tweet and are mentioned in others' tweets. We call them \"conversationists\":"
   ]
  },
  {
   "cell_type": "code",
   "execution_count": null,
   "id": "8fb6344b",
   "metadata": {
    "slideshow": {
     "slide_type": "-"
    }
   },
   "outputs": [],
   "source": [
    "conversationists = np.intersect1d(unique_tweeters, unique_tweetees)\n",
    "conversationists"
   ]
  },
  {
   "cell_type": "code",
   "execution_count": null,
   "id": "5f4172ab",
   "metadata": {
    "slideshow": {
     "slide_type": "-"
    }
   },
   "outputs": [],
   "source": [
    "conversationists.size"
   ]
  },
  {
   "cell_type": "markdown",
   "id": "4b43012b",
   "metadata": {
    "slideshow": {
     "slide_type": "subslide"
    }
   },
   "source": [
    "Let us try building a matrix that identifies which users have mentioned whom, and how many times.\n",
    "- Along each axis of the matrix we will have a row for each \"conversationist\", and likewise a column for each.\n",
    "- We will need an array (matrix) of the above size along each axis."
   ]
  },
  {
   "cell_type": "code",
   "execution_count": null,
   "id": "55c5498a",
   "metadata": {
    "slideshow": {
     "slide_type": "-"
    }
   },
   "outputs": [],
   "source": [
    "mentions = np.zeros((conversationists.size, conversationists.size), dtype=int)\n",
    "mentions.shape"
   ]
  },
  {
   "cell_type": "markdown",
   "id": "6174f6a9",
   "metadata": {
    "slideshow": {
     "slide_type": "subslide"
    }
   },
   "source": [
    "Arrays are indexed numerically, i.e. entries in them have numerical \"coordinates\", like lists:"
   ]
  },
  {
   "cell_type": "code",
   "execution_count": null,
   "id": "a6ef2325",
   "metadata": {
    "slideshow": {
     "slide_type": "-"
    }
   },
   "outputs": [],
   "source": [
    "mentions[3,45]"
   ]
  },
  {
   "cell_type": "markdown",
   "id": "37cf3653",
   "metadata": {
    "slideshow": {
     "slide_type": "-"
    }
   },
   "source": [
    "(so far, all of the contents are just zero)."
   ]
  },
  {
   "cell_type": "markdown",
   "id": "9f5ad809",
   "metadata": {
    "slideshow": {
     "slide_type": "subslide"
    }
   },
   "source": [
    "We build a dictionary for \"translating\" between user names and indexes in the array:"
   ]
  },
  {
   "cell_type": "code",
   "execution_count": null,
   "id": "1bce0d75",
   "metadata": {
    "slideshow": {
     "slide_type": "-"
    }
   },
   "outputs": [],
   "source": [
    "idx_dict = dict(zip(conversationists, range(conversationists.size)))\n",
    "idx_dict"
   ]
  },
  {
   "cell_type": "markdown",
   "id": "4006e1cf",
   "metadata": {
    "slideshow": {
     "slide_type": "subslide"
    }
   },
   "source": [
    "Now we can index into the array using user names:"
   ]
  },
  {
   "cell_type": "code",
   "execution_count": null,
   "id": "f27e0a3b",
   "metadata": {
    "slideshow": {
     "slide_type": "-"
    }
   },
   "outputs": [],
   "source": [
    "mentions[idx_dict['soerenpoul'], idx_dict['vingband']]"
   ]
  },
  {
   "cell_type": "markdown",
   "id": "18aad85b",
   "metadata": {
    "slideshow": {
     "slide_type": "-"
    }
   },
   "source": [
    "The dictionary translates user names into numerical indices that can pick out positions in the array."
   ]
  },
  {
   "cell_type": "markdown",
   "id": "60b93549",
   "metadata": {
    "slideshow": {
     "slide_type": "subslide"
    }
   },
   "source": [
    "Now, let us populate the (so far empty) `mentions` array."
   ]
  },
  {
   "cell_type": "code",
   "execution_count": null,
   "id": "4e9deb13",
   "metadata": {
    "slideshow": {
     "slide_type": "-"
    }
   },
   "outputs": [],
   "source": [
    "for tweeter, text in zip(twitter['from_user_name'], twitter['text']):\n",
    "    if tweeter in conversationists:\n",
    "        for match in re.finditer(valid_user_ex, text):\n",
    "            tweetee = match.group()\n",
    "            if tweetee in conversationists:\n",
    "                mentions[idx_dict[tweeter], idx_dict[tweetee]] += 1"
   ]
  },
  {
   "cell_type": "code",
   "execution_count": null,
   "id": "0944d1bd",
   "metadata": {
    "slideshow": {
     "slide_type": "subslide"
    }
   },
   "outputs": [],
   "source": [
    "from matplotlib import pyplot\n",
    "\n",
    "pyplot.spy(mentions)"
   ]
  },
  {
   "cell_type": "markdown",
   "id": "4c116a2e",
   "metadata": {
    "slideshow": {
     "slide_type": "subslide"
    }
   },
   "source": [
    "Now we can use mathematical operations on the NumPy array `mentions` to answer questions like:\n",
    "- How much does each \"conversationist\" mention other conversationists?"
   ]
  },
  {
   "cell_type": "code",
   "execution_count": null,
   "id": "f592d130-129f-421a-a17e-adfe0c84f789",
   "metadata": {
    "execution": {
     "iopub.execute_input": "2021-11-17T11:01:57.075805Z",
     "iopub.status.busy": "2021-11-17T11:01:57.075319Z",
     "iopub.status.idle": "2021-11-17T11:01:57.082354Z",
     "shell.execute_reply": "2021-11-17T11:01:57.081444Z",
     "shell.execute_reply.started": "2021-11-17T11:01:57.075760Z"
    },
    "tags": []
   },
   "outputs": [],
   "source": [
    "mentioners_arr = np.sum(mentions, axis=1)\n",
    "mentioners_arr"
   ]
  },
  {
   "cell_type": "code",
   "execution_count": null,
   "id": "2d47bafb",
   "metadata": {
    "slideshow": {
     "slide_type": "subslide"
    }
   },
   "outputs": [],
   "source": [
    "mentioners = pandas.DataFrame({'user': conversationists, 'mentions of others': mentioners_arr})\n",
    "mentioners"
   ]
  },
  {
   "cell_type": "code",
   "execution_count": null,
   "id": "b7306891",
   "metadata": {
    "slideshow": {
     "slide_type": "subslide"
    }
   },
   "outputs": [],
   "source": [
    "mentioners.sort_values('mentions of others', ascending=False)"
   ]
  },
  {
   "cell_type": "markdown",
   "id": "ddb7c4d6",
   "metadata": {
    "slideshow": {
     "slide_type": "subslide"
    }
   },
   "source": [
    "- How much does each \"conversationist\" get mentioned?"
   ]
  },
  {
   "cell_type": "code",
   "execution_count": null,
   "id": "65f79ab4",
   "metadata": {
    "slideshow": {
     "slide_type": "-"
    }
   },
   "outputs": [],
   "source": [
    "mentionees_arr = np.sum(mentions, axis=0)\n",
    "mentionees_arr"
   ]
  },
  {
   "cell_type": "code",
   "execution_count": null,
   "id": "5ba21882",
   "metadata": {
    "slideshow": {
     "slide_type": "subslide"
    }
   },
   "outputs": [],
   "source": [
    "mentionees = pandas.DataFrame({'user': conversationists, 'mentions by others': mentionees_arr})\n",
    "mentionees"
   ]
  },
  {
   "cell_type": "code",
   "execution_count": null,
   "id": "19422e56",
   "metadata": {
    "slideshow": {
     "slide_type": "subslide"
    }
   },
   "outputs": [],
   "source": [
    "mentionees.sort_values('mentions by others', ascending=False)"
   ]
  },
  {
   "cell_type": "markdown",
   "id": "459f5de6",
   "metadata": {
    "slideshow": {
     "slide_type": "subslide"
    }
   },
   "source": [
    "- Who mentions the most other users?"
   ]
  },
  {
   "cell_type": "code",
   "execution_count": null,
   "id": "4f766254",
   "metadata": {
    "slideshow": {
     "slide_type": "-"
    }
   },
   "outputs": [],
   "source": [
    "name_droppers_arr = np.sum(mentions>0, axis=0)\n",
    "name_droppers_arr"
   ]
  },
  {
   "cell_type": "code",
   "execution_count": null,
   "id": "c9de2b76",
   "metadata": {
    "slideshow": {
     "slide_type": "subslide"
    }
   },
   "outputs": [],
   "source": [
    "name_droppers = pandas.DataFrame({'user': conversationists, 'users mentioned': name_droppers_arr})\n",
    "name_droppers"
   ]
  },
  {
   "cell_type": "code",
   "execution_count": null,
   "id": "1913edc6",
   "metadata": {
    "slideshow": {
     "slide_type": "subslide"
    }
   },
   "outputs": [],
   "source": [
    "name_droppers.sort_values('users mentioned', ascending=False)"
   ]
  },
  {
   "cell_type": "markdown",
   "id": "9025b6d9",
   "metadata": {
    "slideshow": {
     "slide_type": "slide"
    }
   },
   "source": [
    "# Exercise: answering more Twitter questions\n",
    "\n",
    "- Who gets mentioned by most conversationists?\n",
    "- How many times does a conversationist mention others on average?\n",
    "- How many times does a conversationist get mentioned on average?\n",
    "- Feel free to come up with more questions if you like."
   ]
  }
 ],
 "metadata": {
  "celltoolbar": "Slideshow",
  "kernelspec": {
   "display_name": "Python 3",
   "language": "python",
   "name": "python3"
  },
  "language_info": {
   "codemirror_mode": {
    "name": "ipython",
    "version": 3
   },
   "file_extension": ".py",
   "mimetype": "text/x-python",
   "name": "python",
   "nbconvert_exporter": "python",
   "pygments_lexer": "ipython3",
   "version": "3.8.8"
  }
 },
 "nbformat": 4,
 "nbformat_minor": 5
}
