{
 "cells": [
  {
   "cell_type": "markdown",
   "id": "bc414c67",
   "metadata": {
    "slideshow": {
     "slide_type": "slide"
    }
   },
   "source": [
    "# Sifting through Twitter data\n",
    "\n",
    "Let us put regex search to use. We download a selection of tweets from Twitter mentioning the hashtag '#metoo'.\n",
    "\n",
    "Download [this file](https://gist.githubusercontent.com/ThomasA/9c524894e17d56b211c51cdc34c404ca/raw/8cfade6dbe859999dcfaaba3cc5d96f46cd43da9/twitter.csv):\n"
   ]
  },
  {
   "cell_type": "code",
   "execution_count": null,
   "id": "7e0c858a",
   "metadata": {
    "slideshow": {
     "slide_type": "-"
    }
   },
   "outputs": [],
   "source": [
    "!wget https://gist.githubusercontent.com/ThomasA/9c524894e17d56b211c51cdc34c404ca/raw/8cfade6dbe859999dcfaaba3cc5d96f46cd43da9/twitter.csv"
   ]
  },
  {
   "cell_type": "markdown",
   "id": "0331fd27",
   "metadata": {
    "slideshow": {
     "slide_type": "subslide"
    }
   },
   "source": [
    "## Figure out how to read the Twitter CSV\n",
    "\n",
    "We need a convenient way to access the contents.  \n",
    "What is in the Twitter data set?"
   ]
  },
  {
   "cell_type": "code",
   "execution_count": null,
   "id": "76b55f7f",
   "metadata": {
    "slideshow": {
     "slide_type": "-"
    }
   },
   "outputs": [],
   "source": []
  },
  {
   "cell_type": "markdown",
   "id": "b8dc825c",
   "metadata": {
    "slideshow": {
     "slide_type": "subslide"
    }
   },
   "source": [
    "## Searching through the Twitter data\n",
    "\n",
    "Find tweets with certain words (n.b. it is in Danish; try for example words like \"køn\" or \"ligestilling\").  \n",
    "Which tools can we use for searching through text data?"
   ]
  },
  {
   "cell_type": "code",
   "execution_count": null,
   "id": "cd5ecd1c",
   "metadata": {
    "scrolled": true,
    "slideshow": {
     "slide_type": "-"
    }
   },
   "outputs": [],
   "source": []
  },
  {
   "cell_type": "markdown",
   "id": "5c4f4bce",
   "metadata": {
    "slideshow": {
     "slide_type": "subslide"
    }
   },
   "source": [
    "## Finding Twitter user names\n",
    "\n",
    "Quoting from [Twitter](https://help.twitter.com/en/managing-your-account/twitter-username-rules):\n",
    "> Your username cannot be longer than 15 characters. Your name can be longer (50 characters) or shorter than 4 characters, but usernames are kept shorter for the sake of ease.  \n",
    "> A username can only contain alphanumeric characters (letters A-Z, numbers 0-9) with the exception of underscores, as noted above. Check to make sure your desired username doesn't contain any symbols, dashes, or spaces.\n",
    "\n",
    "- Compose a regex that can match valid Twitter user names, in a context where they start by '@'\n",
    "- Test it using `re.search`\n",
    "  - Should match for example '@ThomasArildsen', '@Bjarne', '@gerTrud'\n",
    "  - Should not match '@Thomas+', '@Signe@AAU', '@ThomasArildsen_AAU'"
   ]
  },
  {
   "cell_type": "markdown",
   "id": "246dc86a",
   "metadata": {
    "slideshow": {
     "slide_type": "subslide"
    }
   },
   "source": [
    "How many unique (tweeting) users are among the tweets?"
   ]
  },
  {
   "cell_type": "code",
   "execution_count": null,
   "id": "efb37c36",
   "metadata": {
    "slideshow": {
     "slide_type": "-"
    }
   },
   "outputs": [],
   "source": []
  },
  {
   "cell_type": "markdown",
   "id": "f82dee0f",
   "metadata": {
    "slideshow": {
     "slide_type": "subslide"
    }
   },
   "source": [
    "Let us also find all usernames mentioned in tweets (including re-tweets):"
   ]
  },
  {
   "cell_type": "code",
   "execution_count": null,
   "id": "e464d8e8",
   "metadata": {},
   "outputs": [],
   "source": []
  },
  {
   "cell_type": "markdown",
   "id": "9ecaf1ee",
   "metadata": {
    "slideshow": {
     "slide_type": "slide"
    }
   },
   "source": [
    "## NumPy arrays\n",
    "\n",
    "Sometimes we need to work on large amounts of numerical data.\n",
    "\n",
    "NumPy provides a fundamental building block efficiently storing and processing numerical data in Python:"
   ]
  },
  {
   "cell_type": "code",
   "execution_count": null,
   "id": "a6b69c74",
   "metadata": {
    "slideshow": {
     "slide_type": "-"
    }
   },
   "outputs": [],
   "source": [
    "import numpy as np"
   ]
  },
  {
   "cell_type": "markdown",
   "id": "57f75030",
   "metadata": {
    "slideshow": {
     "slide_type": "subslide"
    }
   },
   "source": [
    "Let us build a reduced set of those users who both tweet and are mentioned in others' tweets. We call them \n",
    "\"conversationists\".\n",
    "\n",
    "This can be done as a NumPy operation on the two pieces we have identified above: the (unique) tweeters and the (unique) mentioned users. Let us call it `mentions`:"
   ]
  },
  {
   "cell_type": "code",
   "execution_count": null,
   "id": "2253f040",
   "metadata": {
    "slideshow": {
     "slide_type": "-"
    }
   },
   "outputs": [],
   "source": []
  },
  {
   "cell_type": "markdown",
   "id": "4b43012b",
   "metadata": {
    "slideshow": {
     "slide_type": "subslide"
    }
   },
   "source": [
    "## Identifying interactions\n",
    "\n",
    "Let us try building a matrix that identifies which users have mentioned whom, and how many times.\n",
    "- Along each axis of the matrix we will have a row for each \"conversationist\", and likewise a column for each.\n",
    "- We will need an array (matrix) of the above size along each axis."
   ]
  },
  {
   "cell_type": "code",
   "execution_count": null,
   "id": "55c5498a",
   "metadata": {
    "slideshow": {
     "slide_type": "-"
    }
   },
   "outputs": [],
   "source": []
  },
  {
   "cell_type": "markdown",
   "id": "9f5ad809",
   "metadata": {
    "slideshow": {
     "slide_type": "subslide"
    }
   },
   "source": [
    "We may need a data structure for \"translating\" between user names and indexes in the array:"
   ]
  },
  {
   "cell_type": "code",
   "execution_count": null,
   "id": "1bce0d75",
   "metadata": {
    "slideshow": {
     "slide_type": "-"
    }
   },
   "outputs": [],
   "source": []
  },
  {
   "cell_type": "markdown",
   "id": "60b93549",
   "metadata": {
    "slideshow": {
     "slide_type": "subslide"
    }
   },
   "source": [
    "Now, let us populate the (so far empty) `mentions` array."
   ]
  },
  {
   "cell_type": "code",
   "execution_count": null,
   "id": "cf8aa1fa",
   "metadata": {},
   "outputs": [],
   "source": []
  },
  {
   "cell_type": "code",
   "execution_count": null,
   "id": "0944d1bd",
   "metadata": {
    "slideshow": {
     "slide_type": "subslide"
    }
   },
   "outputs": [],
   "source": [
    "from matplotlib import pyplot\n",
    "\n",
    "pyplot.spy(mentions)"
   ]
  },
  {
   "cell_type": "markdown",
   "id": "4c116a2e",
   "metadata": {
    "slideshow": {
     "slide_type": "slide"
    }
   },
   "source": [
    "## Answering questions about interactions in our data set\n",
    "\n",
    "Now we can use mathematical operations on the NumPy array `mentions` to answer questions like:\n",
    "- How much does each \"conversationist\" mention other conversationists?"
   ]
  },
  {
   "cell_type": "code",
   "execution_count": null,
   "id": "6ead6a02",
   "metadata": {},
   "outputs": [],
   "source": []
  },
  {
   "cell_type": "markdown",
   "id": "ddb7c4d6",
   "metadata": {
    "slideshow": {
     "slide_type": "subslide"
    }
   },
   "source": [
    "- How much does each \"conversationist\" get mentioned?"
   ]
  },
  {
   "cell_type": "code",
   "execution_count": null,
   "id": "a401fb18",
   "metadata": {},
   "outputs": [],
   "source": []
  },
  {
   "cell_type": "markdown",
   "id": "459f5de6",
   "metadata": {
    "slideshow": {
     "slide_type": "subslide"
    }
   },
   "source": [
    "- Who mentions the most other users?"
   ]
  },
  {
   "cell_type": "code",
   "execution_count": null,
   "id": "b11ccaf2",
   "metadata": {},
   "outputs": [],
   "source": []
  },
  {
   "cell_type": "markdown",
   "id": "9025b6d9",
   "metadata": {
    "slideshow": {
     "slide_type": "subslide"
    }
   },
   "source": [
    "## Answering more Twitter questions\n",
    "\n",
    "- Who gets mentioned by most conversationists?\n",
    "- How many times does a conversationist mention others on average?\n",
    "- How many times does a conversationist get mentioned on average?\n",
    "- Feel free to come up with more questions if you like."
   ]
  }
 ],
 "metadata": {
  "celltoolbar": "Slideshow",
  "kernelspec": {
   "display_name": "Python 3",
   "language": "python",
   "name": "python3"
  },
  "language_info": {
   "codemirror_mode": {
    "name": "ipython",
    "version": 3
   },
   "file_extension": ".py",
   "mimetype": "text/x-python",
   "name": "python",
   "nbconvert_exporter": "python",
   "pygments_lexer": "ipython3",
   "version": "3.8.8"
  }
 },
 "nbformat": 4,
 "nbformat_minor": 5
}
