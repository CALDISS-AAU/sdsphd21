{
  "nbformat": 4,
  "nbformat_minor": 0,
  "metadata": {
    "colab": {
      "name": "Twint Demo 2021.ipynb",
      "provenance": [],
      "authorship_tag": "ABX9TyMsuoEIujOD+11dT02s2R8F",
      "include_colab_link": true
    },
    "kernelspec": {
      "display_name": "Python 3",
      "name": "python3"
    }
  },
  "cells": [
    {
      "cell_type": "markdown",
      "metadata": {
        "id": "view-in-github",
        "colab_type": "text"
      },
      "source": [
        "<a href=\"https://colab.research.google.com/github/CALDISS-AAU/sdsphd21/blob/master/notebooks/Twint_Demo_2021.ipynb\" target=\"_parent\"><img src=\"https://colab.research.google.com/assets/colab-badge.svg\" alt=\"Open In Colab\"/></a>"
      ]
    },
    {
      "cell_type": "markdown",
      "metadata": {
        "id": "L11j-3v7w_el"
      },
      "source": [
        "# Basic scraping from Twitter\n",
        "\n",
        "This is a short demo of the [Twint library](https://github.com/twintproject/twint) that scrapes Twitter without API or Selenium etc. Things break on a regular basis and there is no guarantee that it will work in future.\n",
        "However, it does have a large user base and that seems to have been helpful thus far.\n",
        "\n",
        "This is a demo outside the course scope. Using this library may be not in compliance with Twitter's policies.\n",
        "\n",
        "For more examples and functionality have a look at this tutorial: https://pielco11.ovh/posts/twint-osint/"
      ]
    },
    {
      "cell_type": "code",
      "metadata": {
        "id": "Xzfj5SDUvb2T",
        "colab": {
          "base_uri": "https://localhost:8080/"
        },
        "outputId": "38529d8e-786e-48c2-8137-42fa0dee1f39"
      },
      "source": [
        "!pip3 install --user --upgrade git+https://github.com/twintproject/twint.git@origin/master#egg=twint\n",
        "\n",
        "# restart kernel after installing"
      ],
      "execution_count": 1,
      "outputs": [
        {
          "output_type": "stream",
          "name": "stdout",
          "text": [
            "Installing collected packages: multidict, frozenlist, yarl, python-socks, asynctest, async-timeout, aiosignal, pycares, aiohttp, schedule, googletransx, fake-useragent, elasticsearch, dataclasses, cchardet, aiohttp-socks, aiodns, twint\n",
            "\u001b[33m  WARNING: The script twint is installed in '/root/.local/bin' which is not on PATH.\n",
            "  Consider adding this directory to PATH or, if you prefer to suppress this warning, use --no-warn-script-location.\u001b[0m\n",
            "Successfully installed aiodns-3.0.0 aiohttp-3.8.1 aiohttp-socks-0.7.1 aiosignal-1.2.0 async-timeout-4.0.1 asynctest-0.13.0 cchardet-2.1.7 dataclasses-0.6 elasticsearch-7.15.2 fake-useragent-0.1.11 frozenlist-1.2.0 googletransx-2.4.2 multidict-5.2.0 pycares-4.1.2 python-socks-2.0.0 schedule-1.1.0 twint-2.1.21 yarl-1.7.2\n"
          ]
        }
      ]
    },
    {
      "cell_type": "code",
      "metadata": {
        "id": "_uHbN1D-vf5X"
      },
      "source": [
        "import twint \n",
        "import nest_asyncio \n",
        "nest_asyncio.apply()"
      ],
      "execution_count": 1,
      "outputs": []
    },
    {
      "cell_type": "code",
      "metadata": {
        "id": "ItuLmU2BwVMX"
      },
      "source": [
        "import pandas as pd"
      ],
      "execution_count": 2,
      "outputs": []
    },
    {
      "cell_type": "code",
      "metadata": {
        "id": "two6Zp0kvoyW"
      },
      "source": [
        "c = twint.Config()\n",
        "c.Search = '#GRAMMYs'\n",
        "c.Pandas = True\n",
        "c.Limit = 10000\n",
        "\n",
        "twint.run.Search(c)"
      ],
      "execution_count": null,
      "outputs": []
    },
    {
      "cell_type": "code",
      "metadata": {
        "id": "qZCiqvzGvqTM"
      },
      "source": [
        "data = twint.storage.panda.Tweets_df"
      ],
      "execution_count": 8,
      "outputs": []
    },
    {
      "cell_type": "code",
      "metadata": {
        "id": "holam_i2JZbR",
        "colab": {
          "base_uri": "https://localhost:8080/"
        },
        "outputId": "20a22af5-1f51-40a5-a66f-588e2a496fd0"
      },
      "source": [
        "data.info()"
      ],
      "execution_count": 9,
      "outputs": [
        {
          "output_type": "stream",
          "name": "stdout",
          "text": [
            "<class 'pandas.core.frame.DataFrame'>\n",
            "RangeIndex: 15295 entries, 0 to 15294\n",
            "Data columns (total 38 columns):\n",
            " #   Column           Non-Null Count  Dtype  \n",
            "---  ------           --------------  -----  \n",
            " 0   id               15295 non-null  object \n",
            " 1   conversation_id  15295 non-null  object \n",
            " 2   created_at       15295 non-null  float64\n",
            " 3   date             15295 non-null  object \n",
            " 4   timezone         15295 non-null  object \n",
            " 5   place            15295 non-null  object \n",
            " 6   tweet            15295 non-null  object \n",
            " 7   language         15295 non-null  object \n",
            " 8   hashtags         15295 non-null  object \n",
            " 9   cashtags         15295 non-null  object \n",
            " 10  user_id          15295 non-null  int64  \n",
            " 11  user_id_str      15295 non-null  object \n",
            " 12  username         15295 non-null  object \n",
            " 13  name             15295 non-null  object \n",
            " 14  day              15295 non-null  int64  \n",
            " 15  hour             15295 non-null  object \n",
            " 16  link             15295 non-null  object \n",
            " 17  urls             15295 non-null  object \n",
            " 18  photos           15295 non-null  object \n",
            " 19  video            15295 non-null  int64  \n",
            " 20  thumbnail        15295 non-null  object \n",
            " 21  retweet          15295 non-null  bool   \n",
            " 22  nlikes           15295 non-null  int64  \n",
            " 23  nreplies         15295 non-null  int64  \n",
            " 24  nretweets        15295 non-null  int64  \n",
            " 25  quote_url        15295 non-null  object \n",
            " 26  search           15295 non-null  object \n",
            " 27  near             15295 non-null  object \n",
            " 28  geo              15295 non-null  object \n",
            " 29  source           15295 non-null  object \n",
            " 30  user_rt_id       15295 non-null  object \n",
            " 31  user_rt          15295 non-null  object \n",
            " 32  retweet_id       15295 non-null  object \n",
            " 33  reply_to         15295 non-null  object \n",
            " 34  retweet_date     15295 non-null  object \n",
            " 35  translate        15295 non-null  object \n",
            " 36  trans_src        15295 non-null  object \n",
            " 37  trans_dest       15295 non-null  object \n",
            "dtypes: bool(1), float64(1), int64(6), object(30)\n",
            "memory usage: 4.3+ MB\n"
          ]
        }
      ]
    },
    {
      "cell_type": "code",
      "metadata": {
        "id": "Gd-6DaB4KRQm"
      },
      "source": [
        "data.drop_duplicates(subset=['tweet'], inplace=True)"
      ],
      "execution_count": 10,
      "outputs": []
    },
    {
      "cell_type": "code",
      "metadata": {
        "id": "34eGTLzIK8X2"
      },
      "source": [
        "data = data[data.language == 'en']"
      ],
      "execution_count": 11,
      "outputs": []
    },
    {
      "cell_type": "code",
      "metadata": {
        "id": "WTARVp99KViF"
      },
      "source": [
        "data.index = range(len(data))"
      ],
      "execution_count": 12,
      "outputs": []
    },
    {
      "cell_type": "code",
      "metadata": {
        "id": "oIC3VvorKhQ4",
        "colab": {
          "base_uri": "https://localhost:8080/"
        },
        "outputId": "e03bf090-f4b7-46fc-9a2a-f4d661e15526"
      },
      "source": [
        "data.info()"
      ],
      "execution_count": 13,
      "outputs": [
        {
          "output_type": "stream",
          "name": "stdout",
          "text": [
            "<class 'pandas.core.frame.DataFrame'>\n",
            "RangeIndex: 4758 entries, 0 to 4757\n",
            "Data columns (total 38 columns):\n",
            " #   Column           Non-Null Count  Dtype  \n",
            "---  ------           --------------  -----  \n",
            " 0   id               4758 non-null   object \n",
            " 1   conversation_id  4758 non-null   object \n",
            " 2   created_at       4758 non-null   float64\n",
            " 3   date             4758 non-null   object \n",
            " 4   timezone         4758 non-null   object \n",
            " 5   place            4758 non-null   object \n",
            " 6   tweet            4758 non-null   object \n",
            " 7   language         4758 non-null   object \n",
            " 8   hashtags         4758 non-null   object \n",
            " 9   cashtags         4758 non-null   object \n",
            " 10  user_id          4758 non-null   int64  \n",
            " 11  user_id_str      4758 non-null   object \n",
            " 12  username         4758 non-null   object \n",
            " 13  name             4758 non-null   object \n",
            " 14  day              4758 non-null   int64  \n",
            " 15  hour             4758 non-null   object \n",
            " 16  link             4758 non-null   object \n",
            " 17  urls             4758 non-null   object \n",
            " 18  photos           4758 non-null   object \n",
            " 19  video            4758 non-null   int64  \n",
            " 20  thumbnail        4758 non-null   object \n",
            " 21  retweet          4758 non-null   bool   \n",
            " 22  nlikes           4758 non-null   int64  \n",
            " 23  nreplies         4758 non-null   int64  \n",
            " 24  nretweets        4758 non-null   int64  \n",
            " 25  quote_url        4758 non-null   object \n",
            " 26  search           4758 non-null   object \n",
            " 27  near             4758 non-null   object \n",
            " 28  geo              4758 non-null   object \n",
            " 29  source           4758 non-null   object \n",
            " 30  user_rt_id       4758 non-null   object \n",
            " 31  user_rt          4758 non-null   object \n",
            " 32  retweet_id       4758 non-null   object \n",
            " 33  reply_to         4758 non-null   object \n",
            " 34  retweet_date     4758 non-null   object \n",
            " 35  translate        4758 non-null   object \n",
            " 36  trans_src        4758 non-null   object \n",
            " 37  trans_dest       4758 non-null   object \n",
            "dtypes: bool(1), float64(1), int64(6), object(30)\n",
            "memory usage: 1.3+ MB\n"
          ]
        }
      ]
    },
    {
      "cell_type": "code",
      "metadata": {
        "id": "-4khQkvz7XMS"
      },
      "source": [
        "data.to_json('grammy_2021.gz', compression='gzip')"
      ],
      "execution_count": 14,
      "outputs": []
    }
  ]
}