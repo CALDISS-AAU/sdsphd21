{
  "nbformat": 4,
  "nbformat_minor": 0,
  "metadata": {
    "colab": {
      "name": "sdsphd20_colab-demo.ipynb",
      "provenance": [],
      "collapsed_sections": []
    },
    "kernelspec": {
      "name": "python3",
      "display_name": "Python 3"
    }
  },
  "cells": [
    {
      "cell_type": "markdown",
      "metadata": {
        "id": "Dwmzota6NaL3"
      },
      "source": [
        "# This is a notebook\n",
        "\n",
        "There are many like it but this one is mine.\n",
        "\n",
        "In a notebook you can combine text cells and code cells.\n",
        "\n",
        "Google Colab supports both R and Python code cells (a notebook however cannot contain both R and Python code cells).\n",
        "\n",
        "Google Colab is integrated with other Google services like Google Drive making it easy to collaborate and share files."
      ]
    },
    {
      "cell_type": "markdown",
      "metadata": {
        "id": "4Kw5Xv5aN73r"
      },
      "source": [
        "## This is a text cell\n",
        "\n",
        "A text cell is, well, a text cell.\n",
        "\n",
        "It is a cell containing text. \n",
        "\n",
        "It is formatted using [markdown](https://www.markdownguide.org/getting-started/).\n",
        "\n",
        "### Here are some basic markdown syntax examples to use:\n",
        "\n",
        "Use # for \n",
        "# headings.\n",
        "\n",
        "Use * for *italics*.\n",
        "\n",
        "Use ** for **bold**.\n",
        "\n",
        "Use - for \n",
        "- bullet points.\n",
        "\n",
        "Use \\[link](url) for [links](https://caldiss-aau.github.io/sdsphd20/)."
      ]
    },
    {
      "cell_type": "markdown",
      "metadata": {
        "id": "ATEZlhLWO4Ly"
      },
      "source": [
        "## The cell below is a code cell\n",
        "\n",
        "The cell below is a code cell with Python code. \n",
        "\n",
        "Code cells are used to write code like you would in any other IDE.\n",
        "\n",
        "Code cells allows you to split code into sections as you can run cells one at a time."
      ]
    },
    {
      "cell_type": "code",
      "metadata": {
        "id": "lBTXy1cQO3Ne"
      },
      "source": [
        "print(\"hello there\")"
      ],
      "execution_count": null,
      "outputs": []
    },
    {
      "cell_type": "code",
      "metadata": {
        "id": "v95x6ajEN58i"
      },
      "source": [
        "import pandas as pd\n",
        "\n",
        "ess_data = pd.read_csv(\"https://github.com/CALDISS-AAU/workshop_python-intro/raw/master/datasets/ESS2014DK_subset.csv\")\n",
        "\n",
        "ess_data.head()"
      ],
      "execution_count": null,
      "outputs": []
    },
    {
      "cell_type": "code",
      "metadata": {
        "id": "yQJJ5kvmUcIg"
      },
      "source": [
        "ess_data = ess_data.dropna(subset = ['cgtsday'])"
      ],
      "execution_count": null,
      "outputs": []
    },
    {
      "cell_type": "code",
      "metadata": {
        "id": "Vy_W-ISJNLt7"
      },
      "source": [
        "from matplotlib import pyplot as plt\n",
        "import seaborn as sns\n",
        "\n",
        "sns.set(rc={'figure.figsize':(15,9)})\n",
        "\n",
        "sns.scatterplot(data = ess_data, x = 'yrbrn', y = 'cgtsday', hue = 'gndr')"
      ],
      "execution_count": null,
      "outputs": []
    },
    {
      "cell_type": "code",
      "metadata": {
        "id": "pqs1u0e8NiNb"
      },
      "source": [
        ""
      ],
      "execution_count": null,
      "outputs": []
    }
  ]
}