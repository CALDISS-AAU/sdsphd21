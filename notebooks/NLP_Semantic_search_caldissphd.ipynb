{
  "nbformat": 4,
  "nbformat_minor": 0,
  "metadata": {
    "colab": {
      "name": "Semantic_search_caldissphd.ipynb",
      "provenance": [],
      "authorship_tag": "ABX9TyOEqyoW84XSi7KnWoHyJrVL",
      "include_colab_link": true
    },
    "kernelspec": {
      "name": "python3",
      "display_name": "Python 3"
    },
    "language_info": {
      "name": "python"
    }
  },
  "cells": [
    {
      "cell_type": "markdown",
      "metadata": {
        "id": "view-in-github",
        "colab_type": "text"
      },
      "source": [
        "<a href=\"https://colab.research.google.com/github/CALDISS-AAU/sdsphd21/blob/master/notebooks/NLP_Semantic_search_caldissphd.ipynb\" target=\"_parent\"><img src=\"https://colab.research.google.com/assets/colab-badge.svg\" alt=\"Open In Colab\"/></a>"
      ]
    },
    {
      "cell_type": "code",
      "metadata": {
        "id": "YWfBjXCjE_y9"
      },
      "source": [
        "import pandas as pd"
      ],
      "execution_count": null,
      "outputs": []
    },
    {
      "cell_type": "code",
      "metadata": {
        "id": "i9vMUddSFH4r"
      },
      "source": [
        "data = pd.read_csv('scopus.csv')"
      ],
      "execution_count": null,
      "outputs": []
    },
    {
      "cell_type": "code",
      "metadata": {
        "colab": {
          "base_uri": "https://localhost:8080/",
          "height": 1000
        },
        "id": "umqm4qm8FT6J",
        "outputId": "fd44fa75-4e4f-4380-bd23-d33dde417572"
      },
      "source": [
        "data"
      ],
      "execution_count": null,
      "outputs": [
        {
          "output_type": "execute_result",
          "data": {
            "text/html": [
              "<div>\n",
              "<style scoped>\n",
              "    .dataframe tbody tr th:only-of-type {\n",
              "        vertical-align: middle;\n",
              "    }\n",
              "\n",
              "    .dataframe tbody tr th {\n",
              "        vertical-align: top;\n",
              "    }\n",
              "\n",
              "    .dataframe thead th {\n",
              "        text-align: right;\n",
              "    }\n",
              "</style>\n",
              "<table border=\"1\" class=\"dataframe\">\n",
              "  <thead>\n",
              "    <tr style=\"text-align: right;\">\n",
              "      <th></th>\n",
              "      <th>Authors</th>\n",
              "      <th>Author(s) ID</th>\n",
              "      <th>Title</th>\n",
              "      <th>Year</th>\n",
              "      <th>Source title</th>\n",
              "      <th>Volume</th>\n",
              "      <th>Issue</th>\n",
              "      <th>Art. No.</th>\n",
              "      <th>Page start</th>\n",
              "      <th>Page end</th>\n",
              "      <th>Page count</th>\n",
              "      <th>Cited by</th>\n",
              "      <th>DOI</th>\n",
              "      <th>Link</th>\n",
              "      <th>Abstract</th>\n",
              "      <th>Document Type</th>\n",
              "      <th>Publication Stage</th>\n",
              "      <th>Open Access</th>\n",
              "      <th>Source</th>\n",
              "      <th>EID</th>\n",
              "    </tr>\n",
              "  </thead>\n",
              "  <tbody>\n",
              "    <tr>\n",
              "      <th>0</th>\n",
              "      <td>Tseng F.-C., Huang T.-L., Pham T.T.L., Cheng T...</td>\n",
              "      <td>36146359200;57203386123;57200393414;1330259380...</td>\n",
              "      <td>How does media richness foster online gamer lo...</td>\n",
              "      <td>2022</td>\n",
              "      <td>International Journal of Information Management</td>\n",
              "      <td>62</td>\n",
              "      <td>NaN</td>\n",
              "      <td>102439</td>\n",
              "      <td>NaN</td>\n",
              "      <td>NaN</td>\n",
              "      <td>NaN</td>\n",
              "      <td>NaN</td>\n",
              "      <td>10.1016/j.ijinfomgt.2021.102439</td>\n",
              "      <td>https://www.scopus.com/inward/record.uri?eid=2...</td>\n",
              "      <td>The online game market is highly popular, resu...</td>\n",
              "      <td>Article</td>\n",
              "      <td>Final</td>\n",
              "      <td>All Open Access, Bronze</td>\n",
              "      <td>Scopus</td>\n",
              "      <td>2-s2.0-85117119139</td>\n",
              "    </tr>\n",
              "    <tr>\n",
              "      <th>1</th>\n",
              "      <td>Nelci J., Salloum S.A., Shaalan K.</td>\n",
              "      <td>57231400500;57195670894;6507669702;</td>\n",
              "      <td>An Overview of Sentiment Analysis with Dialect...</td>\n",
              "      <td>2022</td>\n",
              "      <td>Lecture Notes in Networks and Systems</td>\n",
              "      <td>299</td>\n",
              "      <td>NaN</td>\n",
              "      <td>NaN</td>\n",
              "      <td>3.0</td>\n",
              "      <td>12</td>\n",
              "      <td>NaN</td>\n",
              "      <td>NaN</td>\n",
              "      <td>10.1007/978-3-030-82616-1_1</td>\n",
              "      <td>https://www.scopus.com/inward/record.uri?eid=2...</td>\n",
              "      <td>Sentiment analysis (SA) is one of the most eme...</td>\n",
              "      <td>Conference Paper</td>\n",
              "      <td>Final</td>\n",
              "      <td>NaN</td>\n",
              "      <td>Scopus</td>\n",
              "      <td>2-s2.0-85113452180</td>\n",
              "    </tr>\n",
              "    <tr>\n",
              "      <th>2</th>\n",
              "      <td>Kietzka G.J., Pryke J.S., Gaigher R., Samways ...</td>\n",
              "      <td>56644914500;16319927900;35752984700;7004518089;</td>\n",
              "      <td>32 years of essential management to retain val...</td>\n",
              "      <td>2021</td>\n",
              "      <td>Urban Ecosystems</td>\n",
              "      <td>24</td>\n",
              "      <td>6</td>\n",
              "      <td>NaN</td>\n",
              "      <td>1295.0</td>\n",
              "      <td>1304</td>\n",
              "      <td>NaN</td>\n",
              "      <td>NaN</td>\n",
              "      <td>10.1007/s11252-021-01115-5</td>\n",
              "      <td>https://www.scopus.com/inward/record.uri?eid=2...</td>\n",
              "      <td>Pond construction in urban areas can mitigate ...</td>\n",
              "      <td>Article</td>\n",
              "      <td>Final</td>\n",
              "      <td>NaN</td>\n",
              "      <td>Scopus</td>\n",
              "      <td>2-s2.0-85118034872</td>\n",
              "    </tr>\n",
              "    <tr>\n",
              "      <th>3</th>\n",
              "      <td>Yaylaci S., Ulman Y.I., Vatansever K., Senyure...</td>\n",
              "      <td>25653347000;8694295000;23500265800;57216939375...</td>\n",
              "      <td>Integrating patient management, reflective pra...</td>\n",
              "      <td>2021</td>\n",
              "      <td>BMC Medical Education</td>\n",
              "      <td>21</td>\n",
              "      <td>1</td>\n",
              "      <td>536</td>\n",
              "      <td>NaN</td>\n",
              "      <td>NaN</td>\n",
              "      <td>NaN</td>\n",
              "      <td>NaN</td>\n",
              "      <td>10.1186/s12909-021-02970-8</td>\n",
              "      <td>https://www.scopus.com/inward/record.uri?eid=2...</td>\n",
              "      <td>Background: Integration of clinical skills, et...</td>\n",
              "      <td>Article</td>\n",
              "      <td>Final</td>\n",
              "      <td>All Open Access, Gold, Green</td>\n",
              "      <td>Scopus</td>\n",
              "      <td>2-s2.0-85117711247</td>\n",
              "    </tr>\n",
              "    <tr>\n",
              "      <th>4</th>\n",
              "      <td>Lampa E., Sonnentheil B., Tökés A., Warner G.</td>\n",
              "      <td>57211752386;57290992900;57289942900;57211748870;</td>\n",
              "      <td>What has the COVID-19 pandemic taught us about...</td>\n",
              "      <td>2021</td>\n",
              "      <td>Research Involvement and Engagement</td>\n",
              "      <td>7</td>\n",
              "      <td>1</td>\n",
              "      <td>73</td>\n",
              "      <td>NaN</td>\n",
              "      <td>NaN</td>\n",
              "      <td>NaN</td>\n",
              "      <td>NaN</td>\n",
              "      <td>10.1186/s40900-021-00315-9</td>\n",
              "      <td>https://www.scopus.com/inward/record.uri?eid=2...</td>\n",
              "      <td>Background: During the COVID-19 pandemic many ...</td>\n",
              "      <td>Note</td>\n",
              "      <td>Final</td>\n",
              "      <td>All Open Access, Gold, Green</td>\n",
              "      <td>Scopus</td>\n",
              "      <td>2-s2.0-85116835413</td>\n",
              "    </tr>\n",
              "    <tr>\n",
              "      <th>...</th>\n",
              "      <td>...</td>\n",
              "      <td>...</td>\n",
              "      <td>...</td>\n",
              "      <td>...</td>\n",
              "      <td>...</td>\n",
              "      <td>...</td>\n",
              "      <td>...</td>\n",
              "      <td>...</td>\n",
              "      <td>...</td>\n",
              "      <td>...</td>\n",
              "      <td>...</td>\n",
              "      <td>...</td>\n",
              "      <td>...</td>\n",
              "      <td>...</td>\n",
              "      <td>...</td>\n",
              "      <td>...</td>\n",
              "      <td>...</td>\n",
              "      <td>...</td>\n",
              "      <td>...</td>\n",
              "      <td>...</td>\n",
              "    </tr>\n",
              "    <tr>\n",
              "      <th>1328</th>\n",
              "      <td>Sheffield J.</td>\n",
              "      <td>7102636616;</td>\n",
              "      <td>The effects of bargaining orientation and comm...</td>\n",
              "      <td>1989</td>\n",
              "      <td>Conference on Human Factors in Computing Syste...</td>\n",
              "      <td>NaN</td>\n",
              "      <td>NaN</td>\n",
              "      <td>NaN</td>\n",
              "      <td>43.0</td>\n",
              "      <td>48</td>\n",
              "      <td>NaN</td>\n",
              "      <td>11.0</td>\n",
              "      <td>10.1145/67449.67458</td>\n",
              "      <td>https://www.scopus.com/inward/record.uri?eid=2...</td>\n",
              "      <td>Pairs of subjects with either a competitive or...</td>\n",
              "      <td>Conference Paper</td>\n",
              "      <td>Final</td>\n",
              "      <td>NaN</td>\n",
              "      <td>Scopus</td>\n",
              "      <td>2-s2.0-84901685084</td>\n",
              "    </tr>\n",
              "    <tr>\n",
              "      <th>1329</th>\n",
              "      <td>Trevino L.K., Lengel R.H., Daft R.L.</td>\n",
              "      <td>7003822350;25632312800;6603220782;</td>\n",
              "      <td>Media Symbolism, Media Richness, and Media Cho...</td>\n",
              "      <td>1987</td>\n",
              "      <td>Communication Research</td>\n",
              "      <td>14</td>\n",
              "      <td>5</td>\n",
              "      <td>NaN</td>\n",
              "      <td>553.0</td>\n",
              "      <td>574</td>\n",
              "      <td>NaN</td>\n",
              "      <td>546.0</td>\n",
              "      <td>10.1177/009365087014005006</td>\n",
              "      <td>https://www.scopus.com/inward/record.uri?eid=2...</td>\n",
              "      <td>Symbolic interactionism is presented as a theo...</td>\n",
              "      <td>Article</td>\n",
              "      <td>Final</td>\n",
              "      <td>NaN</td>\n",
              "      <td>Scopus</td>\n",
              "      <td>2-s2.0-84965761571</td>\n",
              "    </tr>\n",
              "    <tr>\n",
              "      <th>1330</th>\n",
              "      <td>Daft R.L., Lengel R.H., Trevino L.K.</td>\n",
              "      <td>6603220782;25632312800;7003822350;</td>\n",
              "      <td>Message equivocality, media selection, and man...</td>\n",
              "      <td>1987</td>\n",
              "      <td>MIS Quarterly: Management Information Systems</td>\n",
              "      <td>11</td>\n",
              "      <td>3</td>\n",
              "      <td>NaN</td>\n",
              "      <td>355.0</td>\n",
              "      <td>366</td>\n",
              "      <td>NaN</td>\n",
              "      <td>1419.0</td>\n",
              "      <td>10.2307/248682</td>\n",
              "      <td>https://www.scopus.com/inward/record.uri?eid=2...</td>\n",
              "      <td>A field study of middle- and upper-level manag...</td>\n",
              "      <td>Article</td>\n",
              "      <td>Final</td>\n",
              "      <td>NaN</td>\n",
              "      <td>Scopus</td>\n",
              "      <td>2-s2.0-55249120307</td>\n",
              "    </tr>\n",
              "    <tr>\n",
              "      <th>1331</th>\n",
              "      <td>Lakin F.</td>\n",
              "      <td>6506936572;</td>\n",
              "      <td>A performing medium for working group graphics</td>\n",
              "      <td>1986</td>\n",
              "      <td>Proceedings of the ACM Conference on Computer ...</td>\n",
              "      <td>NaN</td>\n",
              "      <td>NaN</td>\n",
              "      <td>NaN</td>\n",
              "      <td>255.0</td>\n",
              "      <td>266</td>\n",
              "      <td>NaN</td>\n",
              "      <td>8.0</td>\n",
              "      <td>10.1145/637069.637105</td>\n",
              "      <td>https://www.scopus.com/inward/record.uri?eid=2...</td>\n",
              "      <td>Writing and drawing together on a common displ...</td>\n",
              "      <td>Conference Paper</td>\n",
              "      <td>Final</td>\n",
              "      <td>NaN</td>\n",
              "      <td>Scopus</td>\n",
              "      <td>2-s2.0-85024576240</td>\n",
              "    </tr>\n",
              "    <tr>\n",
              "      <th>1332</th>\n",
              "      <td>Véret C.M.</td>\n",
              "      <td>6603431348;</td>\n",
              "      <td>Techniques de visualisation en aérodynamique</td>\n",
              "      <td>1985</td>\n",
              "      <td>Proceedings of SPIE - The International Societ...</td>\n",
              "      <td>491</td>\n",
              "      <td>NaN</td>\n",
              "      <td>NaN</td>\n",
              "      <td>418.0</td>\n",
              "      <td>425</td>\n",
              "      <td>NaN</td>\n",
              "      <td>NaN</td>\n",
              "      <td>10.1117/12.967955</td>\n",
              "      <td>https://www.scopus.com/inward/record.uri?eid=2...</td>\n",
              "      <td>During the tests in wind tunnel, flow visualiz...</td>\n",
              "      <td>Conference Paper</td>\n",
              "      <td>Final</td>\n",
              "      <td>NaN</td>\n",
              "      <td>Scopus</td>\n",
              "      <td>2-s2.0-0022207752</td>\n",
              "    </tr>\n",
              "  </tbody>\n",
              "</table>\n",
              "<p>1333 rows × 20 columns</p>\n",
              "</div>"
            ],
            "text/plain": [
              "                                                Authors  ...                 EID\n",
              "0     Tseng F.-C., Huang T.-L., Pham T.T.L., Cheng T...  ...  2-s2.0-85117119139\n",
              "1                    Nelci J., Salloum S.A., Shaalan K.  ...  2-s2.0-85113452180\n",
              "2     Kietzka G.J., Pryke J.S., Gaigher R., Samways ...  ...  2-s2.0-85118034872\n",
              "3     Yaylaci S., Ulman Y.I., Vatansever K., Senyure...  ...  2-s2.0-85117711247\n",
              "4         Lampa E., Sonnentheil B., Tökés A., Warner G.  ...  2-s2.0-85116835413\n",
              "...                                                 ...  ...                 ...\n",
              "1328                                       Sheffield J.  ...  2-s2.0-84901685084\n",
              "1329               Trevino L.K., Lengel R.H., Daft R.L.  ...  2-s2.0-84965761571\n",
              "1330               Daft R.L., Lengel R.H., Trevino L.K.  ...  2-s2.0-55249120307\n",
              "1331                                           Lakin F.  ...  2-s2.0-85024576240\n",
              "1332                                         Véret C.M.  ...   2-s2.0-0022207752\n",
              "\n",
              "[1333 rows x 20 columns]"
            ]
          },
          "metadata": {},
          "execution_count": 13
        }
      ]
    },
    {
      "cell_type": "code",
      "metadata": {
        "colab": {
          "base_uri": "https://localhost:8080/",
          "height": 140
        },
        "id": "0_ZX_uJ3Lufo",
        "outputId": "03ab9678-c1eb-4c66-9873-6eeb012281c7"
      },
      "source": [
        "!pip install -U spacy"
      ],
      "execution_count": null,
      "outputs": [
        {
          "output_type": "stream",
          "name": "stdout",
          "text": [
            "Successfully installed catalogue-2.0.6 langcodes-3.3.0 pathy-0.6.1 pydantic-1.8.2 spacy-3.2.0 spacy-legacy-3.0.8 spacy-loggers-1.0.1 srsly-2.4.2 thinc-8.0.13 typer-0.4.0\n"
          ]
        },
        {
          "output_type": "display_data",
          "data": {
            "application/vnd.colab-display-data+json": {
              "pip_warning": {
                "packages": [
                  "catalogue",
                  "spacy",
                  "srsly",
                  "thinc"
                ]
              }
            }
          },
          "metadata": {}
        }
      ]
    },
    {
      "cell_type": "code",
      "metadata": {
        "id": "yr_DRyPBLlIA"
      },
      "source": [
        "!python -m spacy download en_core_web_sm"
      ],
      "execution_count": null,
      "outputs": []
    },
    {
      "cell_type": "code",
      "metadata": {
        "id": "iOL-i69ZFUS-"
      },
      "source": [
        "# Let's fire up spacy\n",
        "\n",
        "import spacy\n",
        "\n",
        "# and load the small english language model. Large models can be downloaded for many languages.\n",
        "nlp = spacy.load(\"en_core_web_sm\")\n",
        "\n",
        "# find more models for other languages here: https://spacy.io/models/"
      ],
      "execution_count": null,
      "outputs": []
    },
    {
      "cell_type": "code",
      "metadata": {
        "id": "y9doqmvrFnJI"
      },
      "source": [
        "# Let's tokenize all abstracts and get a filtered list of tokens\n",
        "tokenlist = []\n",
        "for doc in nlp.pipe(data['Abstract'], disable=[\"parser\", \"ner\"]):\n",
        "  tokens =[tok.text.lower() for tok in doc if tok.pos_ in ['NOUN','ADJ','ADV','VERB'] and not tok.is_stop]\n",
        "  tokenlist.append(tokens)"
      ],
      "execution_count": null,
      "outputs": []
    },
    {
      "cell_type": "code",
      "metadata": {
        "id": "eJK2wd3XF5K-"
      },
      "source": [
        "# Import the dictionary builder\n",
        "from gensim.corpora.dictionary import Dictionary\n",
        "\n",
        "# Import the TfidfModel from Gensim\n",
        "from gensim.models.tfidfmodel import TfidfModel\n",
        "\n",
        "# Just like before, we import the model\n",
        "from gensim.models.lsimodel import LsiModel\n",
        "\n",
        "# Tooling to map between corpus (gensim) and matrix - more general\n",
        "from gensim.matutils import corpus2csc, corpus2dense"
      ],
      "execution_count": null,
      "outputs": []
    },
    {
      "cell_type": "code",
      "metadata": {
        "colab": {
          "base_uri": "https://localhost:8080/"
        },
        "id": "55VsFBvOF5a-",
        "outputId": "f12b0ed4-fabd-4985-a146-47599a96a6ca"
      },
      "source": [
        "import nltk\n",
        "nltk.download('punkt')\n",
        "nltk.download('stopwords')\n",
        "from nltk.tokenize import word_tokenize\n",
        "from nltk.corpus import stopwords\n",
        "stop_words = set(stopwords.words('english'))"
      ],
      "execution_count": null,
      "outputs": [
        {
          "output_type": "stream",
          "name": "stdout",
          "text": [
            "[nltk_data] Downloading package punkt to /root/nltk_data...\n",
            "[nltk_data]   Package punkt is already up-to-date!\n",
            "[nltk_data] Downloading package stopwords to /root/nltk_data...\n",
            "[nltk_data]   Package stopwords is already up-to-date!\n"
          ]
        }
      ]
    },
    {
      "cell_type": "code",
      "metadata": {
        "id": "D1N3WQn9GLeV"
      },
      "source": [
        "# Generate a dictionary and filter\n",
        "dictionary = Dictionary(tokenlist)\n",
        "dictionary.filter_extremes(no_below=5, no_above=0.2)"
      ],
      "execution_count": null,
      "outputs": []
    },
    {
      "cell_type": "code",
      "metadata": {
        "id": "6ZA9GXUGGO_G"
      },
      "source": [
        "# construct corpus using this dictionary\n",
        "corpus = [dictionary.doc2bow(word_tokenize(doc.lower())) for doc in data['Abstract']]"
      ],
      "execution_count": null,
      "outputs": []
    },
    {
      "cell_type": "code",
      "metadata": {
        "id": "vSSCxrwmGYut"
      },
      "source": [
        "# Create and fit a new TfidfModel using the corpus: tfidf\n",
        "tfidf = TfidfModel(corpus)"
      ],
      "execution_count": null,
      "outputs": []
    },
    {
      "cell_type": "code",
      "metadata": {
        "id": "qaL9kjMzGecx"
      },
      "source": [
        "# transform corpus to TFIDF\n",
        "corpus_tfidf = tfidf[corpus]"
      ],
      "execution_count": null,
      "outputs": []
    },
    {
      "cell_type": "code",
      "metadata": {
        "id": "3Vsy2qbPGf99"
      },
      "source": [
        "# Training the LSI model\n",
        "model_lsi = LsiModel(corpus_tfidf, num_topics = 300, id2word=dictionary)"
      ],
      "execution_count": null,
      "outputs": []
    },
    {
      "cell_type": "code",
      "metadata": {
        "id": "EgKWvTO8GiN7"
      },
      "source": [
        "model_lsi.print_topics()"
      ],
      "execution_count": null,
      "outputs": []
    },
    {
      "cell_type": "code",
      "metadata": {
        "id": "73tRVNPoGmT2"
      },
      "source": [
        "# Generating the corpus train & test\n",
        "\n",
        "corpus_lsi = model_lsi[corpus_tfidf]"
      ],
      "execution_count": null,
      "outputs": []
    },
    {
      "cell_type": "code",
      "metadata": {
        "colab": {
          "base_uri": "https://localhost:8080/"
        },
        "id": "xYSWfrrqHQot",
        "outputId": "4c1a19f4-2246-4dc9-b474-a8f2929a4d48"
      },
      "source": [
        "# turn into matrix\n",
        "corpus_lsi_matrix = corpus2dense(corpus_lsi, 300 )"
      ],
      "execution_count": null,
      "outputs": [
        {
          "output_type": "stream",
          "name": "stderr",
          "text": [
            "/usr/local/lib/python3.7/dist-packages/gensim/matutils.py:502: FutureWarning: arrays to stack must be passed as a \"sequence\" type such as list or tuple. Support for non-sequence iterables such as generators is deprecated as of NumPy 1.16 and will raise an error in the future.\n",
            "  result = np.column_stack(sparse2full(doc, num_terms) for doc in corpus)\n"
          ]
        }
      ]
    },
    {
      "cell_type": "code",
      "metadata": {
        "id": "y4nUEanGHT1f"
      },
      "source": [
        "corpus_lsi_matrix = corpus_lsi_matrix.T"
      ],
      "execution_count": null,
      "outputs": []
    },
    {
      "cell_type": "markdown",
      "metadata": {
        "id": "DtDt_03LeiA-"
      },
      "source": [
        "# Inspect simple topic model with LSI"
      ]
    },
    {
      "cell_type": "code",
      "metadata": {
        "colab": {
          "base_uri": "https://localhost:8080/"
        },
        "id": "HIIHA_GZegzz",
        "outputId": "cc5df354-a89e-4eac-8b9b-966dfc790b5c"
      },
      "source": [
        "# Nothing new here\n",
        "from sklearn.cluster import KMeans\n",
        "clusterer = KMeans(n_clusters = 4)\n",
        "clusterer.fit(corpus_lsi_matrix)"
      ],
      "execution_count": null,
      "outputs": [
        {
          "output_type": "execute_result",
          "data": {
            "text/plain": [
              "KMeans(n_clusters=4)"
            ]
          },
          "metadata": {},
          "execution_count": 42
        }
      ]
    },
    {
      "cell_type": "code",
      "metadata": {
        "colab": {
          "base_uri": "https://localhost:8080/"
        },
        "id": "FNwML1K6egw8",
        "outputId": "cc3a639e-8e68-4007-cb90-1fd4edabee53"
      },
      "source": [
        "# Let's check out the topics by getting \"top-tfidf\" for the different clusters (and we need to transponse)\n",
        "tfidf_matrix = corpus2dense(corpus_tfidf, len(dictionary)).T"
      ],
      "execution_count": null,
      "outputs": [
        {
          "output_type": "stream",
          "name": "stderr",
          "text": [
            "/usr/local/lib/python3.7/dist-packages/gensim/matutils.py:502: FutureWarning: arrays to stack must be passed as a \"sequence\" type such as list or tuple. Support for non-sequence iterables such as generators is deprecated as of NumPy 1.16 and will raise an error in the future.\n",
            "  result = np.column_stack(sparse2full(doc, num_terms) for doc in corpus)\n"
          ]
        }
      ]
    },
    {
      "cell_type": "code",
      "metadata": {
        "id": "vvW5JDAQegly"
      },
      "source": [
        "# write cluster-numbers into our data\n",
        "data['cluster'] = clusterer.labels_"
      ],
      "execution_count": null,
      "outputs": []
    },
    {
      "cell_type": "code",
      "metadata": {
        "colab": {
          "base_uri": "https://localhost:8080/"
        },
        "id": "NXx5SYqwfdJM",
        "outputId": "f6512f7d-3058-40df-9a0d-b844da7382f9"
      },
      "source": [
        "# Let's loop it\n",
        "\n",
        "for i in set(clusterer.labels_):\n",
        "  cluster_index = data[data['cluster'] == i].index\n",
        "  topk = np.flip(np.argsort(np.sum(tfidf_matrix[cluster_index,:], axis=0)))[:10]\n",
        "\n",
        "  print(str(i) + str([dictionary[x] for x in topk]))"
      ],
      "execution_count": null,
      "outputs": [
        {
          "output_type": "stream",
          "name": "stdout",
          "text": [
            "0['language', 'public', 'web', 'digital', 'new', 'text', 'cultural', 'development', 'approach', 'content']\n",
            "1['learning', 'online', 'students', 'perceived', 'knowledge', 'model', 'mobile', 'presence', 'group', 'users']\n",
            "2['species', 'urban', 'landscape', 'habitat', 'forest', 'diversity', 'plant', 'bird', 'biodiversity', 'vegetation']\n",
            "3['teams', 'team', 'virtual', 'members', 'task', 'collaboration', 'tools', 'performance', 'trust', 'teamwork']\n"
          ]
        }
      ]
    },
    {
      "cell_type": "code",
      "metadata": {
        "colab": {
          "base_uri": "https://localhost:8080/"
        },
        "id": "B7WASvfmHXkB",
        "outputId": "8effcc2f-6967-4bed-c5d2-bae59e7daf0c"
      },
      "source": [
        "!pip install -q annoy"
      ],
      "execution_count": null,
      "outputs": [
        {
          "output_type": "stream",
          "name": "stdout",
          "text": [
            "\u001b[?25l\r\u001b[K     |▌                               | 10 kB 20.7 MB/s eta 0:00:01\r\u001b[K     |█                               | 20 kB 27.6 MB/s eta 0:00:01\r\u001b[K     |█▌                              | 30 kB 12.7 MB/s eta 0:00:01\r\u001b[K     |██                              | 40 kB 9.5 MB/s eta 0:00:01\r\u001b[K     |██▌                             | 51 kB 5.4 MB/s eta 0:00:01\r\u001b[K     |███                             | 61 kB 6.0 MB/s eta 0:00:01\r\u001b[K     |███▌                            | 71 kB 5.4 MB/s eta 0:00:01\r\u001b[K     |████                            | 81 kB 5.5 MB/s eta 0:00:01\r\u001b[K     |████▋                           | 92 kB 4.4 MB/s eta 0:00:01\r\u001b[K     |█████                           | 102 kB 4.8 MB/s eta 0:00:01\r\u001b[K     |█████▋                          | 112 kB 4.8 MB/s eta 0:00:01\r\u001b[K     |██████                          | 122 kB 4.8 MB/s eta 0:00:01\r\u001b[K     |██████▋                         | 133 kB 4.8 MB/s eta 0:00:01\r\u001b[K     |███████                         | 143 kB 4.8 MB/s eta 0:00:01\r\u001b[K     |███████▋                        | 153 kB 4.8 MB/s eta 0:00:01\r\u001b[K     |████████▏                       | 163 kB 4.8 MB/s eta 0:00:01\r\u001b[K     |████████▋                       | 174 kB 4.8 MB/s eta 0:00:01\r\u001b[K     |█████████▏                      | 184 kB 4.8 MB/s eta 0:00:01\r\u001b[K     |█████████▋                      | 194 kB 4.8 MB/s eta 0:00:01\r\u001b[K     |██████████▏                     | 204 kB 4.8 MB/s eta 0:00:01\r\u001b[K     |██████████▋                     | 215 kB 4.8 MB/s eta 0:00:01\r\u001b[K     |███████████▏                    | 225 kB 4.8 MB/s eta 0:00:01\r\u001b[K     |███████████▋                    | 235 kB 4.8 MB/s eta 0:00:01\r\u001b[K     |████████████▏                   | 245 kB 4.8 MB/s eta 0:00:01\r\u001b[K     |████████████▊                   | 256 kB 4.8 MB/s eta 0:00:01\r\u001b[K     |█████████████▏                  | 266 kB 4.8 MB/s eta 0:00:01\r\u001b[K     |█████████████▊                  | 276 kB 4.8 MB/s eta 0:00:01\r\u001b[K     |██████████████▏                 | 286 kB 4.8 MB/s eta 0:00:01\r\u001b[K     |██████████████▊                 | 296 kB 4.8 MB/s eta 0:00:01\r\u001b[K     |███████████████▏                | 307 kB 4.8 MB/s eta 0:00:01\r\u001b[K     |███████████████▊                | 317 kB 4.8 MB/s eta 0:00:01\r\u001b[K     |████████████████▎               | 327 kB 4.8 MB/s eta 0:00:01\r\u001b[K     |████████████████▊               | 337 kB 4.8 MB/s eta 0:00:01\r\u001b[K     |█████████████████▎              | 348 kB 4.8 MB/s eta 0:00:01\r\u001b[K     |█████████████████▊              | 358 kB 4.8 MB/s eta 0:00:01\r\u001b[K     |██████████████████▎             | 368 kB 4.8 MB/s eta 0:00:01\r\u001b[K     |██████████████████▊             | 378 kB 4.8 MB/s eta 0:00:01\r\u001b[K     |███████████████████▎            | 389 kB 4.8 MB/s eta 0:00:01\r\u001b[K     |███████████████████▊            | 399 kB 4.8 MB/s eta 0:00:01\r\u001b[K     |████████████████████▎           | 409 kB 4.8 MB/s eta 0:00:01\r\u001b[K     |████████████████████▉           | 419 kB 4.8 MB/s eta 0:00:01\r\u001b[K     |█████████████████████▎          | 430 kB 4.8 MB/s eta 0:00:01\r\u001b[K     |█████████████████████▉          | 440 kB 4.8 MB/s eta 0:00:01\r\u001b[K     |██████████████████████▎         | 450 kB 4.8 MB/s eta 0:00:01\r\u001b[K     |██████████████████████▉         | 460 kB 4.8 MB/s eta 0:00:01\r\u001b[K     |███████████████████████▎        | 471 kB 4.8 MB/s eta 0:00:01\r\u001b[K     |███████████████████████▉        | 481 kB 4.8 MB/s eta 0:00:01\r\u001b[K     |████████████████████████▍       | 491 kB 4.8 MB/s eta 0:00:01\r\u001b[K     |████████████████████████▉       | 501 kB 4.8 MB/s eta 0:00:01\r\u001b[K     |█████████████████████████▍      | 512 kB 4.8 MB/s eta 0:00:01\r\u001b[K     |█████████████████████████▉      | 522 kB 4.8 MB/s eta 0:00:01\r\u001b[K     |██████████████████████████▍     | 532 kB 4.8 MB/s eta 0:00:01\r\u001b[K     |██████████████████████████▉     | 542 kB 4.8 MB/s eta 0:00:01\r\u001b[K     |███████████████████████████▍    | 552 kB 4.8 MB/s eta 0:00:01\r\u001b[K     |███████████████████████████▉    | 563 kB 4.8 MB/s eta 0:00:01\r\u001b[K     |████████████████████████████▍   | 573 kB 4.8 MB/s eta 0:00:01\r\u001b[K     |█████████████████████████████   | 583 kB 4.8 MB/s eta 0:00:01\r\u001b[K     |█████████████████████████████▍  | 593 kB 4.8 MB/s eta 0:00:01\r\u001b[K     |██████████████████████████████  | 604 kB 4.8 MB/s eta 0:00:01\r\u001b[K     |██████████████████████████████▍ | 614 kB 4.8 MB/s eta 0:00:01\r\u001b[K     |███████████████████████████████ | 624 kB 4.8 MB/s eta 0:00:01\r\u001b[K     |███████████████████████████████▍| 634 kB 4.8 MB/s eta 0:00:01\r\u001b[K     |████████████████████████████████| 645 kB 4.8 MB/s eta 0:00:01\r\u001b[K     |████████████████████████████████| 646 kB 4.8 MB/s \n",
            "\u001b[?25h  Building wheel for annoy (setup.py) ... \u001b[?25l\u001b[?25hdone\n"
          ]
        }
      ]
    },
    {
      "cell_type": "markdown",
      "metadata": {
        "id": "fQlV-nXagVh2"
      },
      "source": [
        "# Run LDA model"
      ]
    },
    {
      "cell_type": "code",
      "metadata": {
        "id": "WxI_mR3KgXkY"
      },
      "source": [
        "from gensim.models import LdaMulticore"
      ],
      "execution_count": null,
      "outputs": []
    },
    {
      "cell_type": "code",
      "metadata": {
        "id": "jFftJYQDgdFZ"
      },
      "source": [
        "# Training the model\n",
        "lda_model = LdaMulticore(corpus, id2word=dictionary, num_topics=4, workers = 4, passes=10)"
      ],
      "execution_count": null,
      "outputs": []
    },
    {
      "cell_type": "code",
      "metadata": {
        "colab": {
          "base_uri": "https://localhost:8080/"
        },
        "id": "kLObd5WSgiHw",
        "outputId": "6f4ecf78-6d66-487c-8f09-afd5d59b3569"
      },
      "source": [
        "lda_model.print_topics(-1)"
      ],
      "execution_count": null,
      "outputs": [
        {
          "output_type": "execute_result",
          "data": {
            "text/plain": [
              "[(0,\n",
              "  '0.010*\"©\" + 0.007*\"model\" + 0.006*\"perceived\" + 0.006*\"users\" + 0.006*\"online\" + 0.004*\"task\" + 0.004*\"virtual\" + 0.004*\"support\" + 0.004*\"mobile\" + 0.004*\"findings\"'),\n",
              " (1,\n",
              "  '0.036*\"species\" + 0.013*\"urban\" + 0.012*\"landscape\" + 0.010*\"habitat\" + 0.010*\"diversity\" + 0.009*\"forest\" + 0.008*\"©\" + 0.007*\"areas\" + 0.006*\"science+business\" + 0.006*\"plant\"'),\n",
              " (2,\n",
              "  '0.022*\"learning\" + 0.015*\"students\" + 0.010*\"©\" + 0.010*\"knowledge\" + 0.006*\"education\" + 0.005*\"content\" + 0.004*\"system\" + 0.004*\"management\" + 0.004*\"systems\" + 0.004*\"university\"'),\n",
              " (3,\n",
              "  '0.011*\"©\" + 0.006*\"new\" + 0.005*\"development\" + 0.005*\"cultural\" + 0.004*\"digital\" + 0.004*\"visual\" + 0.004*\"online\" + 0.004*\"work\" + 0.004*\"approach\" + 0.004*\"culture\"')]"
            ]
          },
          "metadata": {},
          "execution_count": 47
        }
      ]
    },
    {
      "cell_type": "code",
      "metadata": {
        "id": "VvUXl_cSgkkK"
      },
      "source": [
        ""
      ],
      "execution_count": null,
      "outputs": []
    },
    {
      "cell_type": "code",
      "metadata": {
        "id": "XkjpU9hnHbeu"
      },
      "source": [
        "from annoy import AnnoyIndex"
      ],
      "execution_count": null,
      "outputs": []
    },
    {
      "cell_type": "code",
      "metadata": {
        "id": "P5x3cJF4Hm88"
      },
      "source": [
        "f = 300\n",
        "\n",
        "t = AnnoyIndex(f, 'angular')  # Length of item vector that will be indexed\n",
        "\n",
        "for i in range(len(corpus_lsi_matrix)):\n",
        "    t.add_item(i, corpus_lsi_matrix[i])"
      ],
      "execution_count": null,
      "outputs": []
    },
    {
      "cell_type": "code",
      "metadata": {
        "colab": {
          "base_uri": "https://localhost:8080/"
        },
        "id": "i0XbnCauHog-",
        "outputId": "7489ac88-141c-4c19-be79-3f5e2a36d64e"
      },
      "source": [
        "t.build(10)"
      ],
      "execution_count": null,
      "outputs": [
        {
          "output_type": "execute_result",
          "data": {
            "text/plain": [
              "True"
            ]
          },
          "metadata": {},
          "execution_count": 25
        }
      ]
    },
    {
      "cell_type": "code",
      "metadata": {
        "colab": {
          "base_uri": "https://localhost:8080/",
          "height": 172
        },
        "id": "LppBWtWBH-UX",
        "outputId": "c8bae301-3dce-4f42-d3d6-fde1cb655175"
      },
      "source": [
        "data['Abstract'][0]"
      ],
      "execution_count": null,
      "outputs": [
        {
          "output_type": "execute_result",
          "data": {
            "application/vnd.google.colaboratory.intrinsic+json": {
              "type": "string"
            },
            "text/plain": [
              "'The online game market is highly popular, resulting in fierce competition among game makers and prompting them to find ways to strengthen gamer loyalty. Online gamers enjoy interacting, socializing, and building quickly formed relationships, i.e., swift guanxi, which greatly rely on games as media through which to exchange rich messages. However, it is not known how these aspects foster gamer loyalty. To fill this gap, we examine how media richness aspects form gamers’ perceptions of presence, interactivity, and swift guanxi, which help foster gamer loyalty. We used a total of 1350 online gamers’ responses to test our model. The results show that two of the four aspects of media richness effectively enhance presence, interactivity, and swift guanxi, which in turn strengthen gamer loyalty. We extend media richness theory by identifying some novel consequences of media richness, i.e., presence, interactivity, and swift guanxi, and establishing their interrelationships. We also ascertain the mechanism that leads from media richness to gamer loyalty. Our findings identify the drivers that game makers can use to strengthen user loyalty to online games, software games, and gamified systems. © 2021 Elsevier Ltd'"
            ]
          },
          "metadata": {},
          "execution_count": 26
        }
      ]
    },
    {
      "cell_type": "code",
      "metadata": {
        "colab": {
          "base_uri": "https://localhost:8080/"
        },
        "id": "W4J-6JuSHttc",
        "outputId": "20367b34-b467-462b-af86-9345707606c3"
      },
      "source": [
        "t.get_nns_by_item(0, 10)"
      ],
      "execution_count": null,
      "outputs": [
        {
          "output_type": "execute_result",
          "data": {
            "text/plain": [
              "[0, 190, 350, 125, 122, 1062, 543, 518, 417, 153]"
            ]
          },
          "metadata": {},
          "execution_count": 27
        }
      ]
    },
    {
      "cell_type": "code",
      "metadata": {
        "colab": {
          "base_uri": "https://localhost:8080/",
          "height": 172
        },
        "id": "6UFQzNLqIHVQ",
        "outputId": "6cf2c16f-8bf3-47cd-928e-f5f2916e9527"
      },
      "source": [
        "data['Abstract'][125]"
      ],
      "execution_count": null,
      "outputs": [
        {
          "output_type": "execute_result",
          "data": {
            "application/vnd.google.colaboratory.intrinsic+json": {
              "type": "string"
            },
            "text/plain": [
              "'Purpose: Previous studies have attempted to address online uncertainties from the relationship marketing perspective. The purpose of this paper is to argue that the integration of media richness theory (MRT) and cognitive fit theory (CFT) can contribute a new perspective in addressing consumers’ transaction-specific uncertainties in online retailing. Design/methodology/approach: On the basis of MRT and CFT, a research model was developed by correlating online channel media richness (OCMR), online–offline information integration (OOII), information privacy concern, perceived deception and online loyalty. The model was empirically examined based on survey data collected from 258 multi-channel consumers in China. Findings: An analysis of structural equation model showed that OCMR is negatively associated with information privacy concern and perceived deception but is not significant to online loyalty. Information privacy concern has a negative influence on online loyalty, but the effect of perceived deception is not significant. Moreover, information privacy concern is positively related to perceived deception. The OOII strengthens the influence of OCMR but not the moderating effect of integrated promotion, product and price information on the relationship between OCMR and online loyalty. Originality/value: This study contributes to the extant literature on online retailing by examining the effect of OCMR on online transaction uncertainties. Information integrity in the form of OOII was proposed to complement OCMR. Results have shown that OCMR is significant in reducing online uncertainties, and OOII strengthens this effect, thereby enhancing online loyalty. © 2019, Emerald Publishing Limited.'"
            ]
          },
          "metadata": {},
          "execution_count": 32
        }
      ]
    },
    {
      "cell_type": "markdown",
      "metadata": {
        "id": "BoCxNfYeIuAw"
      },
      "source": [
        "Even simpler with SpaCy embeddings"
      ]
    },
    {
      "cell_type": "code",
      "metadata": {
        "id": "C6p09XTaJjuo"
      },
      "source": [
        "import numpy as np"
      ],
      "execution_count": null,
      "outputs": []
    },
    {
      "cell_type": "code",
      "metadata": {
        "colab": {
          "base_uri": "https://localhost:8080/"
        },
        "id": "2T2FPhwpJNLr",
        "outputId": "d392c5f0-4296-4668-a8e5-4d2fa038b25f"
      },
      "source": [
        "# Let's tokenize all abstracts and get a filtered list of tokens\n",
        "vectors = []\n",
        "for doc in nlp.pipe(data['Abstract'], disable=[\"parser\", \"ner\"]):\n",
        "  vectors.append(doc.vector)"
      ],
      "execution_count": null,
      "outputs": [
        {
          "output_type": "stream",
          "name": "stderr",
          "text": [
            "/usr/local/lib/python3.7/dist-packages/torch/autocast_mode.py:141: UserWarning: User provided device_type of 'cuda', but CUDA is not available. Disabling\n",
            "  warnings.warn('User provided device_type of \\'cuda\\', but CUDA is not available. Disabling')\n"
          ]
        }
      ]
    },
    {
      "cell_type": "code",
      "metadata": {
        "id": "MIgSTtq2Jw_U"
      },
      "source": [
        "f = 96\n",
        "\n",
        "t_spacy = AnnoyIndex(f, 'angular')  # Length of item vector that will be indexed\n",
        "\n",
        "for i in range(len(vectors)):\n",
        "    t_spacy.add_item(i, vectors[i])"
      ],
      "execution_count": null,
      "outputs": []
    },
    {
      "cell_type": "code",
      "metadata": {
        "colab": {
          "base_uri": "https://localhost:8080/"
        },
        "id": "NJ4u_hMGKHAu",
        "outputId": "26800f61-a687-463b-9b92-6c87e3239ca8"
      },
      "source": [
        "t_spacy.build(50)"
      ],
      "execution_count": null,
      "outputs": [
        {
          "output_type": "execute_result",
          "data": {
            "text/plain": [
              "True"
            ]
          },
          "metadata": {},
          "execution_count": 41
        }
      ]
    },
    {
      "cell_type": "code",
      "metadata": {
        "colab": {
          "base_uri": "https://localhost:8080/"
        },
        "id": "_bYUdsvUKKz4",
        "outputId": "ba080f94-1198-432a-9f8b-c5588867990f"
      },
      "source": [
        "t_spacy.get_nns_by_item(0, 10)"
      ],
      "execution_count": null,
      "outputs": [
        {
          "output_type": "execute_result",
          "data": {
            "text/plain": [
              "[0, 1095, 286, 110, 719, 280, 542, 282, 974, 1123]"
            ]
          },
          "metadata": {},
          "execution_count": 42
        }
      ]
    },
    {
      "cell_type": "code",
      "metadata": {
        "colab": {
          "base_uri": "https://localhost:8080/"
        },
        "id": "f9aus2vyKPUX",
        "outputId": "a18a1a27-aedd-4f50-c5ca-e42d560ff12f"
      },
      "source": [
        "t.get_nns_by_item(0, 10)"
      ],
      "execution_count": null,
      "outputs": [
        {
          "output_type": "execute_result",
          "data": {
            "text/plain": [
              "[0, 190, 350, 125, 122, 1062, 543, 518, 417, 153]"
            ]
          },
          "metadata": {},
          "execution_count": 43
        }
      ]
    },
    {
      "cell_type": "code",
      "metadata": {
        "colab": {
          "base_uri": "https://localhost:8080/",
          "height": 172
        },
        "id": "pVDmHkUxKUAu",
        "outputId": "6dee0d38-bc36-40d0-c309-52d1b709f63e"
      },
      "source": [
        "data['Abstract'][286]"
      ],
      "execution_count": null,
      "outputs": [
        {
          "output_type": "execute_result",
          "data": {
            "application/vnd.google.colaboratory.intrinsic+json": {
              "type": "string"
            },
            "text/plain": [
              "'Social media enables the performative actions needed for celebrities to build and maintain audiences. Platforms like Twitter mediate identity construction and interaction with fans while enabling environments that are co-constructed by celebrities, fans, and the platform itself. We use the theoretical lens of media richness to study the ways that different types of celebrities enact “micro-celebrity” by mapping three richness dimensions (contextual, interactional, and informational) into groupings of Twitter’s affordances. Utilizing crowdsourcing and regression analysis, we systematically weigh each affordance and generate richness scores for each dimension, for each tweet. Using these richness scores, we find that performance of different types of celebrity requires different affordance mixtures, and that these mixtures reflect differences in the environments within which celebrities operate. Our research contributes to work at the intersection of Twitter affordances and celebrity studies in new media, and provides a framework for generating richness scores. © 2018, © The Author(s) 2018.'"
            ]
          },
          "metadata": {},
          "execution_count": 45
        }
      ]
    }
  ]
}