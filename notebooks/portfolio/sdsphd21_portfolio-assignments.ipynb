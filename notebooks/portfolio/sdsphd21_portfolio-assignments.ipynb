{
 "cells": [
  {
   "cell_type": "markdown",
   "metadata": {
    "id": "883tPg8mDseq"
   },
   "source": [
    "# Portfolio for SDSPhD21\n",
    "\n",
    "This notebook contains the exercises and assignments to be answered in a portfolio for the PhD course \"Social Data Science: An Applied Introduction to Machine Learning\" at Aalborg University, November 2021.\n",
    "\n",
    "Each day of the course you are given an hour to work on a portfolio with the possibility of sparring with the course lecturers. \n",
    "\n",
    "You are expected to attempt to solve the various assignments using the methods and tools taught during the course. Answers should be combined into a notebook (fx by adding answers to a copy of this one). \n",
    "\n",
    "\n",
    "#### How to hand in your portfolio notebooks\n",
    "\n",
    "You can hand in your portfolio notebooks in two ways:\n",
    "\n",
    "- Saving your notebooks in a GitHub repository and then sending the repository URL to the course organizer (Kristian Kjelmann)\n",
    "- Sharing your notebooks directly with the course organizer (Kristian Kjelmann) in Google Colab.\n",
    "\n",
    "Kristian’s e-mail: kgk@adm.aau.dk"
   ]
  },
  {
   "cell_type": "markdown",
   "metadata": {
    "id": "gDgEJEMSDser"
   },
   "source": [
    "# Portfolio assignment for Monday (\"Introduction to Machine Learning\")\n",
    "\n",
    "**Requirement**: Provide solutions for the clustering exercise."
   ]
  },
  {
   "cell_type": "markdown",
   "metadata": {
    "id": "obd04ZJGDseu"
   },
   "source": [
    "---\n",
    "\n",
    "## Clustering\n",
    "\n",
    "I have created a larger set of variables from the Danish Value Study from 1999. You can find data here:\n",
    "\n",
    "https://raw.githubusercontent.com/CALDISS-AAU/sdsphd21/master/datasets/value99.csv\n",
    "\n",
    "In all examples, values towards 1 is agree a lot and values towards 5 is disagree a lot.\n",
    "\n",
    "As an example: \"Does not want alchoholics as neighbors\" --> 1=does not want, 2=doesnt care\n",
    "\n",
    "Or: Trust to the military --> 1=Trust very much, 2= Trust some, 3=Trust a little 4=Does not trust at all "
   ]
  },
  {
   "cell_type": "markdown",
   "metadata": {
    "id": "myBvN4jaDseu"
   },
   "source": [
    "[![2hAEhX.md.png](https://iili.io/2hAEhX.md.png)](https://freeimage.host/i/2hAEhX)"
   ]
  },
  {
   "cell_type": "markdown",
   "metadata": {
    "id": "jTMbEvvDDseu"
   },
   "source": [
    "Pick some varibles you think is interesting and play with creating clusters. Can we explain what is going on?"
   ]
  },
  {
   "cell_type": "markdown",
   "metadata": {},
   "source": [
    "# Portfolio assignment for Tuesday (\"Introduction to Supervised Machine Learning\")\n",
    "\n",
    "**Requirement**: Provide solutions for the employee turnover assignment."
   ]
  },
  {
   "cell_type": "markdown",
   "metadata": {
    "id": "KDcrUan2Dseu"
   },
   "source": [
    "## Supervised Machine Learning: Employee turnover\n",
    "\n",
    "### The assignment\n",
    "\n",
    "In the repo, you will find a dataset describing employee turnover in a company.\n",
    "\n",
    "https://raw.githubusercontent.com/CALDISS-AAU/sdsphd21/master/datasets/turnover.csv\n",
    "\n",
    "The dataset contains data collected in an employee survey and enriched with HR data.\n",
    "\n",
    "The variable `churn` tells us if the employee left the company in the past 3 months. The other variables are collected\n",
    "\n",
    "#### Classification\n",
    "\n",
    "Try to predict `churn` using a classification pipeline (perhaps add some simple exploration of the data first)\n",
    "\n",
    "#### Regression\n",
    "\n",
    "Try to predict the number of weekly average hours worked.\n",
    "\n",
    "**Before** working with the data, you should use [`pd.get_dummies`](https://pandas.pydata.org/pandas-docs/stable/reference/api/pandas.get_dummies.html) to get dummies for categorical variables."
   ]
  },
  {
   "cell_type": "code",
   "execution_count": null,
   "metadata": {},
   "outputs": [],
   "source": []
  }
 ],
 "metadata": {
  "colab": {
   "include_colab_link": true,
   "name": "sdsphd20_portfolio-assignments.ipynb",
   "provenance": []
  },
  "kernelspec": {
   "display_name": "Python 3 (ipykernel)",
   "language": "python",
   "name": "python3"
  },
  "language_info": {
   "codemirror_mode": {
    "name": "ipython",
    "version": 3
   },
   "file_extension": ".py",
   "mimetype": "text/x-python",
   "name": "python",
   "nbconvert_exporter": "python",
   "pygments_lexer": "ipython3",
   "version": "3.7.9"
  }
 },
 "nbformat": 4,
 "nbformat_minor": 4
}
