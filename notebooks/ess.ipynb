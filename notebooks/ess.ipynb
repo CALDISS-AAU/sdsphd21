{
 "cells": [
  {
   "cell_type": "markdown",
   "metadata": {},
   "source": [
    "# European Social Survey\n",
    "The data is a subset of the danish answers for the European Social Survey 2018: https://www.europeansocialsurvey.org/\n",
    "\n",
    "\n",
    "\n"
   ]
  },
  {
   "cell_type": "markdown",
   "metadata": {},
   "source": [
    "## Reading the data\n",
    "The data is stored in this link: https://raw.githubusercontent.com/CALDISS-AAU/workshop_R-intro/master/data/ESS2018DK_subset.csv \n",
    "You can start by reading the csv file into a Pandas Dataframe"
   ]
  },
  {
   "cell_type": "code",
   "execution_count": null,
   "metadata": {},
   "outputs": [],
   "source": []
  },
  {
   "cell_type": "markdown",
   "metadata": {},
   "source": [
    "## Explore the data\n",
    "Now you can have a look at your dataset, and explore the "
   ]
  },
  {
   "cell_type": "code",
   "execution_count": null,
   "metadata": {},
   "outputs": [],
   "source": []
  },
  {
   "cell_type": "markdown",
   "metadata": {},
   "source": [
    "## Age\n",
    "We would like to have a column called 'age' where we have the respondents age. We currently only have the column called 'yrbrn'.\n",
    "The new column 'age' should be a part of our ESS-data and since the data is from 2018, we would like their age from that year."
   ]
  },
  {
   "cell_type": "code",
   "execution_count": null,
   "metadata": {},
   "outputs": [],
   "source": []
  },
  {
   "cell_type": "markdown",
   "metadata": {},
   "source": [
    "## Time on the internet\n",
    "We have a column called \"netustm\" where we can see how many minutes the respondents use on the internet per day. We would like to make a new column called \"netusthour\", where we have converted the minutes to hours. "
   ]
  },
  {
   "cell_type": "code",
   "execution_count": null,
   "metadata": {},
   "outputs": [],
   "source": []
  },
  {
   "cell_type": "markdown",
   "metadata": {},
   "source": [
    "## Descriptive statistics\n",
    "Find the maximum, minimum and mean of your column called \"netusthour\""
   ]
  },
  {
   "cell_type": "code",
   "execution_count": null,
   "metadata": {},
   "outputs": [],
   "source": []
  },
  {
   "cell_type": "markdown",
   "metadata": {},
   "source": [
    "## High or low trust?\n",
    "- Create a new variable/column called ppltrst_category containing whether people have a high or low level of trust. You decide when people according to their score have a low or high amount of trust.\n",
    "- Find out how many people that have a low amount of trust"
   ]
  },
  {
   "cell_type": "code",
   "execution_count": null,
   "metadata": {},
   "outputs": [],
   "source": []
  },
  {
   "cell_type": "markdown",
   "metadata": {},
   "source": [
    "# Subsetting \n",
    "We would like a smaller set of our data to the next piece of our notebook. We will be focusing on the respodents that are in the working-age. \n",
    "- So you will need to define what the working-age is and subset a smaller piece of the ESS-data to contain only the respondents within that age. "
   ]
  },
  {
   "cell_type": "code",
   "execution_count": null,
   "metadata": {},
   "outputs": [],
   "source": []
  },
  {
   "cell_type": "markdown",
   "metadata": {},
   "source": [
    "## Percentage of overtime\n",
    "-Create a new variable/column called povertime containing the pertange of overtime for respondents. (Total contracted hours per week in main job overtime excluded 'wkhct'. Total hours normally worked per week in main job overtime included 'wkhtot')"
   ]
  },
  {
   "cell_type": "code",
   "execution_count": null,
   "metadata": {},
   "outputs": [],
   "source": []
  },
  {
   "cell_type": "markdown",
   "metadata": {},
   "source": [
    "## Age and overtime?\n",
    "Find out what agegroup that has the most overtime and what agegroup has the lowest."
   ]
  },
  {
   "cell_type": "code",
   "execution_count": null,
   "metadata": {},
   "outputs": [],
   "source": []
  },
  {
   "cell_type": "markdown",
   "metadata": {},
   "source": [
    "# Visualizations\n",
    "- Import Matplotlib or another visualization tool and visualize your data. \n",
    "- Think about what you would like to present, and what would make it intuiative for people to see\n",
    "- Add title and different colors to your visualization \n",
    "- Explore different types of visualization"
   ]
  },
  {
   "cell_type": "code",
   "execution_count": null,
   "metadata": {},
   "outputs": [],
   "source": []
  }
 ],
 "metadata": {
  "kernelspec": {
   "display_name": "Python 3",
   "language": "python",
   "name": "python3"
  },
  "language_info": {
   "codemirror_mode": {
    "name": "ipython",
    "version": 3
   },
   "file_extension": ".py",
   "mimetype": "text/x-python",
   "name": "python",
   "nbconvert_exporter": "python",
   "pygments_lexer": "ipython3",
   "version": "3.8.5"
  }
 },
 "nbformat": 4,
 "nbformat_minor": 4
}
