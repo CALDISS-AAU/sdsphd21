{
 "cells": [
  {
   "cell_type": "markdown",
   "id": "d430eaa7",
   "metadata": {
    "slideshow": {
     "slide_type": "slide"
    }
   },
   "source": [
    "# Social Data Science PhD course\n",
    "22nd of November, 2021\n",
    "\n",
    "Signe Sørensen and Thomas Arildsen, CLAAUDIA"
   ]
  },
  {
   "cell_type": "markdown",
   "id": "3939119e",
   "metadata": {
    "slideshow": {
     "slide_type": "slide"
    }
   },
   "source": [
    "# Text processing with regular expressions\n",
    "\n",
    "What are regular expressions?\n",
    "\n",
    "> A **regular expression** (shortened as **regex** or **regexp**; also referred to as rational expression) is a sequence of characters that specifies a search pattern. Usually such patterns are used by string-searching algorithms for \"find\" or \"find and replace\" operations on strings, or for input validation. It is a technique developed in theoretical computer science and formal language theory.\n",
    "\n",
    "\\[[Wikipedia](https://en.wikipedia.org/wiki/Regular_expression)\\]"
   ]
  },
  {
   "cell_type": "markdown",
   "id": "d89928ca",
   "metadata": {
    "slideshow": {
     "slide_type": "subslide"
    }
   },
   "source": [
    "So, a \"regex\" is a sort of special text string that specifies a pattern you want to search for.\n",
    "\n",
    "A simpler example - may be familiar to some: \"wildcard\" text strings:\n",
    "\n",
    "    some*\n",
    "    \n",
    "- Matches: \"something\", \"some\", \"somelier\", etc.\n",
    "- Often used when listing / searching for files:"
   ]
  },
  {
   "cell_type": "code",
   "execution_count": null,
   "id": "aee396ee",
   "metadata": {
    "slideshow": {
     "slide_type": "-"
    }
   },
   "outputs": [],
   "source": [
    "!ls *.ipynb"
   ]
  },
  {
   "cell_type": "markdown",
   "id": "3bd35753",
   "metadata": {
    "slideshow": {
     "slide_type": "subslide"
    }
   },
   "source": [
    "\"Wildcard\" text strings are just a simple example of specifying text patterns.\n",
    "- Regular expressions are more general than this\n",
    "- Regular expressions are a combination of *literal characters* and *meta-characters*\n",
    "- Literal characters: for example ordinary letters that should be taken as-is: \"b\"\n",
    "- Meta-characters: typically special or punctuation characters that serve a functional role in the regex: \".\" (matches any 1 character)\n",
    "  \n",
    "      b.\n",
    "\n",
    "- Matches \"be\", \"by\", \"b5\", \"b:\"; etc. *Not* \"beer\", \"banana\", etc.\n",
    "- Notice how the meta-character \".\" matches only 1 character. Must be combined with more meta-characters to match longer string parts."
   ]
  },
  {
   "cell_type": "markdown",
   "id": "0a58dd6a",
   "metadata": {
    "slideshow": {
     "slide_type": "slide"
    }
   },
   "source": [
    "# Regular expressions in Python\n",
    "\n",
    "Python has a module with functionality for working with regular expressions: `re`\n",
    "- Part of the Python standard library, so no need to install anything extra"
   ]
  },
  {
   "cell_type": "code",
   "execution_count": null,
   "id": "2e84a572",
   "metadata": {
    "slideshow": {
     "slide_type": "-"
    }
   },
   "outputs": [],
   "source": [
    "import re"
   ]
  },
  {
   "cell_type": "markdown",
   "id": "b9de2e99",
   "metadata": {
    "slideshow": {
     "slide_type": "subslide"
    }
   },
   "source": [
    "Let us see how we can use regular expressions and then start building from there what regular expressions can actually look like."
   ]
  },
  {
   "cell_type": "code",
   "execution_count": null,
   "id": "96128f9c",
   "metadata": {
    "slideshow": {
     "slide_type": "-"
    }
   },
   "outputs": [],
   "source": [
    "re.search?"
   ]
  },
  {
   "cell_type": "markdown",
   "id": "b9551450",
   "metadata": {
    "slideshow": {
     "slide_type": "fragment"
    }
   },
   "source": [
    "We can use `re.search` to search for a particular regex in a text string."
   ]
  },
  {
   "cell_type": "markdown",
   "id": "e2534cc4",
   "metadata": {
    "slideshow": {
     "slide_type": "subslide"
    }
   },
   "source": [
    "\n",
    "## How to write regex patterns in Python\n",
    "\n",
    "`\\` in Python strings is used to \"escape\" certain special characters.\n",
    "- For example, we must type `'\\\\'` to get a backslash or `'\\n'` to get a new line - try it:"
   ]
  },
  {
   "cell_type": "code",
   "execution_count": null,
   "id": "8c26ca9b",
   "metadata": {
    "slideshow": {
     "slide_type": "-"
    }
   },
   "outputs": [],
   "source": [
    "print('\\\\')"
   ]
  },
  {
   "cell_type": "code",
   "execution_count": null,
   "id": "7fbc4338",
   "metadata": {
    "slideshow": {
     "slide_type": "-"
    }
   },
   "outputs": [],
   "source": [
    "print('Hi\\nthere')"
   ]
  },
  {
   "cell_type": "markdown",
   "id": "60364423",
   "metadata": {
    "slideshow": {
     "slide_type": "subslide"
    }
   },
   "source": [
    "In regex, `\\` is also used to denote special sequences - as we shall see shortly.\n",
    "- Can \"collide\" with Python's \"escaping\" of characters in text strings - makes it cumbersome to write special sequences in regex.\n",
    "- Solution: use Python's \"raw text strings\" for regex:"
   ]
  },
  {
   "cell_type": "code",
   "execution_count": null,
   "id": "d62cc30f",
   "metadata": {
    "slideshow": {
     "slide_type": "-"
    }
   },
   "outputs": [],
   "source": [
    "print(r\"Text with \\ in it\")"
   ]
  },
  {
   "cell_type": "markdown",
   "id": "29bffd6b",
   "metadata": {
    "slideshow": {
     "slide_type": "fragment"
    }
   },
   "source": [
    "Suppresses special handling of backslash."
   ]
  },
  {
   "cell_type": "markdown",
   "id": "c5aca4a4",
   "metadata": {
    "slideshow": {
     "slide_type": "subslide"
    }
   },
   "source": [
    "## Searching with regex\n",
    "\n",
    "Now we are ready to try some regex searching. What does `re.search` return?:"
   ]
  },
  {
   "cell_type": "code",
   "execution_count": null,
   "id": "b05dd71f",
   "metadata": {
    "slideshow": {
     "slide_type": "-"
    }
   },
   "outputs": [],
   "source": [
    "re.search(r'word', 'Text with words in it ;-)')"
   ]
  },
  {
   "cell_type": "markdown",
   "id": "83af202d",
   "metadata": {
    "slideshow": {
     "slide_type": "fragment"
    }
   },
   "source": [
    "What happens when a pattern is not found?"
   ]
  },
  {
   "cell_type": "code",
   "execution_count": null,
   "id": "60bf17c9",
   "metadata": {
    "slideshow": {
     "slide_type": "-"
    }
   },
   "outputs": [],
   "source": [
    "re.search(r'needle', 'haystack')"
   ]
  },
  {
   "cell_type": "markdown",
   "id": "d91c79c9",
   "metadata": {
    "slideshow": {
     "slide_type": "subslide"
    }
   },
   "source": [
    "Regex are case-sensitive"
   ]
  },
  {
   "cell_type": "code",
   "execution_count": null,
   "id": "0d4e898e",
   "metadata": {
    "slideshow": {
     "slide_type": "-"
    }
   },
   "outputs": [],
   "source": [
    "re.search(r'a', 'A string with some a''s in it')"
   ]
  },
  {
   "cell_type": "markdown",
   "id": "e7f1de28",
   "metadata": {
    "slideshow": {
     "slide_type": "fragment"
    }
   },
   "source": [
    "Unless you tell them not to:"
   ]
  },
  {
   "cell_type": "code",
   "execution_count": null,
   "id": "d7a349e4",
   "metadata": {
    "slideshow": {
     "slide_type": "-"
    }
   },
   "outputs": [],
   "source": [
    "re.search(r'a', 'A string with some a''s in it', flags=re.I)"
   ]
  },
  {
   "cell_type": "markdown",
   "id": "d561807c",
   "metadata": {
    "slideshow": {
     "slide_type": "subslide"
    }
   },
   "source": [
    "What happens when there are multiple matches?"
   ]
  },
  {
   "cell_type": "code",
   "execution_count": null,
   "id": "7d331797",
   "metadata": {
    "slideshow": {
     "slide_type": "-"
    }
   },
   "outputs": [],
   "source": [
    "re.search(r'a', 'A woman walking her dog')"
   ]
  },
  {
   "cell_type": "markdown",
   "id": "68f4d7b6",
   "metadata": {
    "slideshow": {
     "slide_type": "fragment"
    }
   },
   "source": [
    "We have to use another variant when we want all matches:"
   ]
  },
  {
   "cell_type": "code",
   "execution_count": null,
   "id": "997c870b",
   "metadata": {
    "slideshow": {
     "slide_type": "-"
    }
   },
   "outputs": [],
   "source": [
    "re.findall(r'a', 'A woman walking her dog')"
   ]
  },
  {
   "cell_type": "markdown",
   "id": "bf6d9286",
   "metadata": {
    "slideshow": {
     "slide_type": "subslide"
    }
   },
   "source": [
    "# Regex syntax\n",
    "\n",
    "Now we know a little better how `re.search` behaves. Time to look closer at how to type regex.\n",
    "- So far, we have seen simple examples with literal characters\n",
    "\n",
    "      r'needle'\n",
    "      \n",
    "- The real strength of regex comes from meta-characters, or special characters, and special sequences\n",
    "\n",
    "`.`"
   ]
  },
  {
   "cell_type": "code",
   "execution_count": null,
   "id": "64f2b264",
   "metadata": {
    "slideshow": {
     "slide_type": "-"
    }
   },
   "outputs": [],
   "source": [
    "re.search(r'.', 'haystack')"
   ]
  },
  {
   "cell_type": "markdown",
   "id": "2f1a2627",
   "metadata": {
    "slideshow": {
     "slide_type": "fragment"
    }
   },
   "source": [
    "We have seen this one before; matches any 1 character."
   ]
  },
  {
   "cell_type": "markdown",
   "id": "336c34ad",
   "metadata": {
    "slideshow": {
     "slide_type": "subslide"
    }
   },
   "source": [
    "Multiple characters; zero or more (`*`):"
   ]
  },
  {
   "cell_type": "code",
   "execution_count": null,
   "id": "cad0d32e",
   "metadata": {
    "slideshow": {
     "slide_type": "-"
    }
   },
   "outputs": [],
   "source": [
    "re.search(r'.*', 'haystack')"
   ]
  },
  {
   "cell_type": "code",
   "execution_count": null,
   "id": "126efdc9",
   "metadata": {
    "slideshow": {
     "slide_type": "-"
    }
   },
   "outputs": [],
   "source": [
    "re.search(r'a*', 'haystack')"
   ]
  },
  {
   "cell_type": "code",
   "execution_count": null,
   "id": "2cdceff7",
   "metadata": {
    "slideshow": {
     "slide_type": "-"
    }
   },
   "outputs": [],
   "source": [
    "re.search(r'ay*', 'haystack')"
   ]
  },
  {
   "cell_type": "code",
   "execution_count": null,
   "id": "02de27d7",
   "metadata": {
    "slideshow": {
     "slide_type": "-"
    }
   },
   "outputs": [],
   "source": [
    "re.search(r'ay*', 'aardvark')"
   ]
  },
  {
   "cell_type": "markdown",
   "id": "93c760da",
   "metadata": {
    "slideshow": {
     "slide_type": "subslide"
    }
   },
   "source": [
    "One or more (`+`):"
   ]
  },
  {
   "cell_type": "code",
   "execution_count": null,
   "id": "9bee5e33",
   "metadata": {
    "slideshow": {
     "slide_type": "-"
    }
   },
   "outputs": [],
   "source": [
    "re.search(r'a+', 'haystack')"
   ]
  },
  {
   "cell_type": "code",
   "execution_count": null,
   "id": "75f7a172",
   "metadata": {
    "slideshow": {
     "slide_type": "-"
    }
   },
   "outputs": [],
   "source": [
    "re.search(r'a+', 'aardvark')"
   ]
  },
  {
   "cell_type": "code",
   "execution_count": null,
   "id": "02a7e215",
   "metadata": {
    "slideshow": {
     "slide_type": "-"
    }
   },
   "outputs": [],
   "source": [
    "re.search(r'ay+', 'haystack')"
   ]
  },
  {
   "cell_type": "code",
   "execution_count": null,
   "id": "6ae6d828",
   "metadata": {
    "slideshow": {
     "slide_type": "-"
    }
   },
   "outputs": [],
   "source": [
    "re.search(r'ay+', 'aardvark')"
   ]
  },
  {
   "cell_type": "markdown",
   "id": "6865d627",
   "metadata": {
    "slideshow": {
     "slide_type": "subslide"
    }
   },
   "source": [
    "Zero or one (`?`):"
   ]
  },
  {
   "cell_type": "code",
   "execution_count": null,
   "id": "a08a3fbe",
   "metadata": {
    "slideshow": {
     "slide_type": "-"
    }
   },
   "outputs": [],
   "source": [
    "re.search(r'ay?', 'aardvark')"
   ]
  },
  {
   "cell_type": "code",
   "execution_count": null,
   "id": "b12d1132",
   "metadata": {
    "slideshow": {
     "slide_type": "-"
    }
   },
   "outputs": [],
   "source": [
    "re.search(r'a?', 'aardvark')"
   ]
  },
  {
   "cell_type": "code",
   "execution_count": null,
   "id": "24707f52-0d1a-4130-bca8-10c2575eba84",
   "metadata": {
    "execution": {
     "iopub.execute_input": "2021-11-17T08:47:43.879163Z",
     "iopub.status.busy": "2021-11-17T08:47:43.878666Z",
     "iopub.status.idle": "2021-11-17T08:47:43.887410Z",
     "shell.execute_reply": "2021-11-17T08:47:43.886290Z",
     "shell.execute_reply.started": "2021-11-17T08:47:43.879116Z"
    },
    "tags": []
   },
   "outputs": [],
   "source": [
    "re.search(r'ay+', 'ayyyyyy')"
   ]
  },
  {
   "cell_type": "code",
   "execution_count": null,
   "id": "435ea233-1428-4342-bb58-411787dd5cf1",
   "metadata": {
    "execution": {
     "iopub.execute_input": "2021-11-17T08:48:01.848609Z",
     "iopub.status.busy": "2021-11-17T08:48:01.847938Z",
     "iopub.status.idle": "2021-11-17T08:48:01.858299Z",
     "shell.execute_reply": "2021-11-17T08:48:01.856570Z",
     "shell.execute_reply.started": "2021-11-17T08:48:01.848557Z"
    },
    "tags": []
   },
   "outputs": [],
   "source": [
    "re.search(r'ay?', 'ayyyyyy')"
   ]
  },
  {
   "cell_type": "markdown",
   "id": "87ac4b5f",
   "metadata": {
    "slideshow": {
     "slide_type": "subslide"
    }
   },
   "source": [
    "Specifying number of matches:"
   ]
  },
  {
   "cell_type": "code",
   "execution_count": null,
   "id": "76aa647c",
   "metadata": {
    "execution": {
     "iopub.execute_input": "2021-11-17T08:48:47.967918Z",
     "iopub.status.busy": "2021-11-17T08:48:47.967412Z",
     "iopub.status.idle": "2021-11-17T08:48:47.976298Z",
     "shell.execute_reply": "2021-11-17T08:48:47.975444Z",
     "shell.execute_reply.started": "2021-11-17T08:48:47.967871Z"
    },
    "tags": []
   },
   "outputs": [],
   "source": [
    "re.search(r'ay{3}', 'ayyyyyy')"
   ]
  },
  {
   "cell_type": "code",
   "execution_count": null,
   "id": "5a91768c",
   "metadata": {
    "execution": {
     "iopub.execute_input": "2021-11-17T08:49:38.147055Z",
     "iopub.status.busy": "2021-11-17T08:49:38.146447Z",
     "iopub.status.idle": "2021-11-17T08:49:38.152702Z",
     "shell.execute_reply": "2021-11-17T08:49:38.151699Z",
     "shell.execute_reply.started": "2021-11-17T08:49:38.147005Z"
    },
    "tags": []
   },
   "outputs": [],
   "source": [
    "re.search(r'ay{3,5}', 'ayy')"
   ]
  },
  {
   "cell_type": "markdown",
   "id": "cd863ce9",
   "metadata": {
    "slideshow": {
     "slide_type": "subslide"
    }
   },
   "source": [
    "What if we want to match a special character - for example '?', '\\*', or '+' ? \"Escape\" them (`\\`):"
   ]
  },
  {
   "cell_type": "code",
   "execution_count": null,
   "id": "fd95c0ce",
   "metadata": {
    "slideshow": {
     "slide_type": "-"
    }
   },
   "outputs": [],
   "source": [
    "re.search(r'\\*', 'A string with *s in it?')"
   ]
  },
  {
   "cell_type": "code",
   "execution_count": null,
   "id": "0e7072be",
   "metadata": {
    "slideshow": {
     "slide_type": "-"
    }
   },
   "outputs": [],
   "source": [
    "re.search(r'\\?', 'A string with *s in it?')"
   ]
  },
  {
   "cell_type": "markdown",
   "id": "7badf7c1",
   "metadata": {
    "slideshow": {
     "slide_type": "subslide"
    }
   },
   "source": [
    "Being more selective than just `.`, any character: character sets (`[]`):"
   ]
  },
  {
   "cell_type": "code",
   "execution_count": null,
   "id": "7b28419e",
   "metadata": {
    "slideshow": {
     "slide_type": "-"
    }
   },
   "outputs": [],
   "source": [
    "re.search(r'[irt]', 'A string with *s in it?')"
   ]
  },
  {
   "cell_type": "code",
   "execution_count": null,
   "id": "7c24d5b2",
   "metadata": {
    "slideshow": {
     "slide_type": "-"
    }
   },
   "outputs": [],
   "source": [
    "re.search(r'[irt]+', 'A string with *s in it?')"
   ]
  },
  {
   "cell_type": "markdown",
   "id": "1f567dfa",
   "metadata": {
    "slideshow": {
     "slide_type": "fragment"
    }
   },
   "source": [
    "Negate contents with `^`:"
   ]
  },
  {
   "cell_type": "code",
   "execution_count": null,
   "id": "9c4502dc",
   "metadata": {
    "slideshow": {
     "slide_type": "-"
    }
   },
   "outputs": [],
   "source": [
    "re.search(r'[^irt]', 'A string with *s in it?')"
   ]
  },
  {
   "cell_type": "markdown",
   "id": "99e7e667",
   "metadata": {
    "slideshow": {
     "slide_type": "subslide"
    }
   },
   "source": [
    "Character ranges (`[ - ]`):"
   ]
  },
  {
   "cell_type": "code",
   "execution_count": null,
   "id": "9cdb8624",
   "metadata": {
    "slideshow": {
     "slide_type": "-"
    }
   },
   "outputs": [],
   "source": [
    "re.search(r'[a-z]+', 'A string with *s in it?')"
   ]
  },
  {
   "cell_type": "code",
   "execution_count": null,
   "id": "c8b1eda1",
   "metadata": {
    "slideshow": {
     "slide_type": "-"
    }
   },
   "outputs": [],
   "source": [
    "re.search(r'[a-z ]+', 'A string with *s in it?')"
   ]
  },
  {
   "cell_type": "markdown",
   "id": "7f7b862f",
   "metadata": {
    "slideshow": {
     "slide_type": "subslide"
    }
   },
   "source": [
    "Either/or (`|`):"
   ]
  },
  {
   "cell_type": "code",
   "execution_count": null,
   "id": "c33a9609",
   "metadata": {
    "slideshow": {
     "slide_type": "-"
    }
   },
   "outputs": [],
   "source": [
    "re.search(r't|r', 'Some string')"
   ]
  },
  {
   "cell_type": "code",
   "execution_count": null,
   "id": "e54b4c0f",
   "metadata": {
    "slideshow": {
     "slide_type": "-"
    }
   },
   "outputs": [],
   "source": [
    "re.search(r'(t|r)+', 'Some string')"
   ]
  },
  {
   "cell_type": "markdown",
   "id": "23271d04",
   "metadata": {
    "slideshow": {
     "slide_type": "subslide"
    }
   },
   "source": [
    "Grouping `()`:"
   ]
  },
  {
   "cell_type": "code",
   "execution_count": null,
   "id": "109eb5c6",
   "metadata": {
    "slideshow": {
     "slide_type": "-"
    }
   },
   "outputs": [],
   "source": [
    "match = re.search(r'([a-z]+)', 'Some string')\n",
    "match"
   ]
  },
  {
   "cell_type": "code",
   "execution_count": null,
   "id": "0fed3d6e",
   "metadata": {
    "slideshow": {
     "slide_type": "-"
    }
   },
   "outputs": [],
   "source": [
    "match.groups()"
   ]
  },
  {
   "cell_type": "code",
   "execution_count": null,
   "id": "05c22be7",
   "metadata": {
    "slideshow": {
     "slide_type": "fragment"
    }
   },
   "outputs": [],
   "source": [
    "match = re.search(r'([a-z]+).+?([a-z]+)', 'Some string')\n",
    "match"
   ]
  },
  {
   "cell_type": "code",
   "execution_count": null,
   "id": "696f6a11",
   "metadata": {
    "slideshow": {
     "slide_type": "-"
    }
   },
   "outputs": [],
   "source": [
    "match.groups()"
   ]
  },
  {
   "cell_type": "markdown",
   "id": "2cef05ef",
   "metadata": {
    "slideshow": {
     "slide_type": "subslide"
    }
   },
   "source": [
    "## Character classes\n",
    "\n",
    "Specifying a word like `r'[A-Za-z]'` may be a bit cumbersome.\n",
    "- Quicker way of specifying character classes like words (`\\w` matches \"word\" *characters*; `[a-zA-Z0-9_]` in ASCII):"
   ]
  },
  {
   "cell_type": "code",
   "execution_count": null,
   "id": "54403783",
   "metadata": {
    "slideshow": {
     "slide_type": "-"
    }
   },
   "outputs": [],
   "source": [
    "re.search(r'\\w', \"String with words in it\")"
   ]
  },
  {
   "cell_type": "code",
   "execution_count": null,
   "id": "ed32d65b",
   "metadata": {
    "slideshow": {
     "slide_type": "-"
    }
   },
   "outputs": [],
   "source": [
    "re.search(r'\\w+', \"String with words in it\")"
   ]
  },
  {
   "cell_type": "markdown",
   "id": "463b2f77",
   "metadata": {
    "slideshow": {
     "slide_type": "subslide"
    }
   },
   "source": [
    "Most character classes have an *opposite* class as well (the class letter in capital):"
   ]
  },
  {
   "cell_type": "code",
   "execution_count": null,
   "id": "82ad50f4",
   "metadata": {
    "slideshow": {
     "slide_type": "-"
    }
   },
   "outputs": [],
   "source": [
    "re.search(r'\\W', \"String with words in it\")"
   ]
  },
  {
   "cell_type": "markdown",
   "id": "2c9bc375",
   "metadata": {
    "slideshow": {
     "slide_type": "subslide"
    }
   },
   "source": [
    "Decimal digits (`\\d`):"
   ]
  },
  {
   "cell_type": "code",
   "execution_count": null,
   "id": "6b88514e",
   "metadata": {
    "slideshow": {
     "slide_type": "-"
    }
   },
   "outputs": [],
   "source": [
    "re.search(r'\\d', \"A string with 7 and 13 in it\")"
   ]
  },
  {
   "cell_type": "markdown",
   "id": "ec16cc6c",
   "metadata": {
    "slideshow": {
     "slide_type": "-"
    }
   },
   "source": [
    "See more character classes and regex features [in the documentation](https://docs.python.org/3.8/library/re.html#index-24)."
   ]
  },
  {
   "cell_type": "markdown",
   "id": "e9945260",
   "metadata": {
    "slideshow": {
     "slide_type": "subslide"
    }
   },
   "source": [
    "Regex search supports unicode characters in general"
   ]
  },
  {
   "cell_type": "code",
   "execution_count": null,
   "id": "651b54cb",
   "metadata": {
    "slideshow": {
     "slide_type": "-"
    }
   },
   "outputs": [],
   "source": [
    "re.search(r'💚', \"Lots of ❤️🧡💛💚💙💜🤎 in many colours\")"
   ]
  },
  {
   "cell_type": "markdown",
   "id": "9edd6232",
   "metadata": {
    "slideshow": {
     "slide_type": "subslide"
    }
   },
   "source": [
    "## Substituting and splitting\n",
    "\n",
    "Regex can also be used for more things than just searching:\n",
    "- Substitution:"
   ]
  },
  {
   "cell_type": "code",
   "execution_count": null,
   "id": "010e6ef7",
   "metadata": {
    "slideshow": {
     "slide_type": "-"
    }
   },
   "outputs": [],
   "source": [
    "re.sub(r'simple', r'complicated', 'This is a simple example')"
   ]
  },
  {
   "cell_type": "markdown",
   "id": "a49c4b82",
   "metadata": {
    "slideshow": {
     "slide_type": "fragment"
    }
   },
   "source": [
    "Incorporating matched groups:"
   ]
  },
  {
   "cell_type": "code",
   "execution_count": null,
   "id": "4fdcd4f9",
   "metadata": {
    "slideshow": {
     "slide_type": "-"
    }
   },
   "outputs": [],
   "source": [
    "match = re.search(r'(tast)(.+)(chees)', 'This is a tasty cheese')\n",
    "match.groups()"
   ]
  },
  {
   "cell_type": "code",
   "execution_count": null,
   "id": "198f7582",
   "metadata": {
    "slideshow": {
     "slide_type": "-"
    }
   },
   "outputs": [],
   "source": [
    "re.sub(r'(tast)(.+)(chees)', r'\\3\\2\\1', 'This is a tasty cheese')"
   ]
  }
 ],
 "metadata": {
  "celltoolbar": "Slideshow",
  "kernelspec": {
   "display_name": "Python 3",
   "language": "python",
   "name": "python3"
  },
  "language_info": {
   "codemirror_mode": {
    "name": "ipython",
    "version": 3
   },
   "file_extension": ".py",
   "mimetype": "text/x-python",
   "name": "python",
   "nbconvert_exporter": "python",
   "pygments_lexer": "ipython3",
   "version": "3.8.8"
  }
 },
 "nbformat": 4,
 "nbformat_minor": 5
}
