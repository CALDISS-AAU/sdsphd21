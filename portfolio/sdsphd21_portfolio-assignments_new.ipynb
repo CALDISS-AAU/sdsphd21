{
  "nbformat": 4,
  "nbformat_minor": 0,
  "metadata": {
    "colab": {
      "name": "sdsphd21_portfolio-assignments.ipynb",
      "provenance": [],
      "include_colab_link": true
    },
    "kernelspec": {
      "display_name": "Python 3 (ipykernel)",
      "language": "python",
      "name": "python3"
    },
    "language_info": {
      "codemirror_mode": {
        "name": "ipython",
        "version": 3
      },
      "file_extension": ".py",
      "mimetype": "text/x-python",
      "name": "python",
      "nbconvert_exporter": "python",
      "pygments_lexer": "ipython3",
      "version": "3.7.9"
    }
  },
  "cells": [
    {
      "cell_type": "markdown",
      "metadata": {
        "id": "view-in-github",
        "colab_type": "text"
      },
      "source": [
        "<a href=\"https://colab.research.google.com/github/CALDISS-AAU/sdsphd21/blob/master/portfolio/sdsphd21_portfolio-assignments.ipynb\" target=\"_parent\"><img src=\"https://colab.research.google.com/assets/colab-badge.svg\" alt=\"Open In Colab\"/></a>"
      ]
    },
    {
      "cell_type": "markdown",
      "metadata": {
        "id": "883tPg8mDseq"
      },
      "source": [
        "# Portfolio for SDSPhD21\n",
        "\n",
        "This notebook contains the exercises and assignments to be answered in a portfolio for the PhD course \"Social Data Science: An Applied Introduction to Machine Learning\" at Aalborg University, November 2021.\n",
        "\n",
        "Each day of the course you are given an hour to work on a portfolio with the possibility of sparring with the course lecturers. \n",
        "\n",
        "You are expected to attempt to solve the various assignments using the methods and tools taught during the course. Answers should be combined into a notebook (fx by adding answers to a copy of this one). \n",
        "\n",
        "\n",
        "#### How to hand in your portfolio notebooks\n",
        "\n",
        "You can hand in your portfolio notebooks in two ways:\n",
        "\n",
        "- Saving your notebooks in a GitHub repository and then sending the repository URL to the course organizer (Kristian Kjelmann)\n",
        "- Sharing your notebooks directly with the course organizer (Kristian Kjelmann) in Google Colab.\n",
        "\n",
        "Kristian’s e-mail: kgk@adm.aau.dk"
      ]
    },
    {
      "cell_type": "markdown",
      "metadata": {
        "id": "gDgEJEMSDser"
      },
      "source": [
        "# Portfolio assignment for Monday (\"Introduction to Machine Learning\")\n",
        "\n",
        "**Requirement**: Provide solutions for the clustering exercise."
      ]
    },
    {
      "cell_type": "markdown",
      "metadata": {
        "id": "obd04ZJGDseu"
      },
      "source": [
        "---\n",
        "\n",
        "## Clustering\n",
        "\n",
        "I have created a larger set of variables from the Danish Value Study from 1999. You can find data here:\n",
        "\n",
        "https://raw.githubusercontent.com/CALDISS-AAU/sdsphd21/master/datasets/value99.csv\n",
        "\n",
        "In all examples, values towards 1 is agree a lot and values towards 5 is disagree a lot.\n",
        "\n",
        "As an example: \"Does not want alchoholics as neighbors\" --> 1=does not want, 2=doesnt care\n",
        "\n",
        "Or: Trust to the military --> 1=Trust very much, 2= Trust some, 3=Trust a little 4=Does not trust at all "
      ]
    },
    {
      "cell_type": "markdown",
      "metadata": {
        "id": "myBvN4jaDseu"
      },
      "source": [
        "[![2hAEhX.md.png](https://iili.io/2hAEhX.md.png)](https://freeimage.host/i/2hAEhX)"
      ]
    },
    {
      "cell_type": "markdown",
      "metadata": {
        "id": "jTMbEvvDDseu"
      },
      "source": [
        "Pick some varibles you think is interesting and play with creating clusters. Can we explain what is going on?"
      ]
    },
    {
      "cell_type": "markdown",
      "metadata": {
        "id": "vOyZi3vIh2Ct"
      },
      "source": [
        "# Portfolio assignment for Tuesday (\"Introduction to Supervised Machine Learning\")\n",
        "\n",
        "**Requirement**: Provide solutions for the employee turnover assignment."
      ]
    },
    {
      "cell_type": "markdown",
      "metadata": {
        "id": "KDcrUan2Dseu"
      },
      "source": [
        "## Supervised Machine Learning: Employee turnover\n",
        "\n",
        "### The assignment\n",
        "\n",
        "In the repo, you will find a dataset describing employee turnover in a company.\n",
        "\n",
        "https://raw.githubusercontent.com/CALDISS-AAU/sdsphd21/master/datasets/turnover.csv\n",
        "\n",
        "The dataset contains data collected in an employee survey and enriched with HR data.\n",
        "\n",
        "The variable `churn` tells us if the employee left the company in the past 3 months. The other variables are collected\n",
        "\n",
        "#### Classification\n",
        "\n",
        "Try to predict `churn` using a classification pipeline (perhaps add some simple exploration of the data first)\n",
        "\n",
        "#### Regression\n",
        "\n",
        "Try to predict the number of weekly average hours worked.\n",
        "\n",
        "**Before** working with the data, you should use [`pd.get_dummies`](https://pandas.pydata.org/pandas-docs/stable/reference/api/pandas.get_dummies.html) to get dummies for categorical variables."
      ]
    },
    {
      "cell_type": "markdown",
      "metadata": {
        "id": "H-lGkSqKh2Cu"
      },
      "source": [
        "# Portfolio assignments for Wednesday (\"Introduction to Geospatial Data\" & \"Introduction to Network Analysis in Python\")\n",
        "\n",
        "**Requirement:** Provide solutions for the geospatial data exercise *and* the network analysis exercise.\n",
        "\n",
        "## Geospatial data: Map data of your choice\n",
        "\n",
        "Try to go here:\n",
        "https://ec.europa.eu/eurostat/data/database\n",
        "\n",
        "And look for statistics that are on NUTS level 2\n",
        "\n",
        "Then go grab this data: https://github.com/CALDISS-AAU/sdsphd21/raw/master/datasets/NUTS_RG_20M_2021_3035_LEVL_2.shp.zip"
      ]
    },
    {
      "cell_type": "code",
      "metadata": {
        "colab": {
          "base_uri": "https://localhost:8080/"
        },
        "id": "lvxf3r_Wv2-p",
        "outputId": "5ce91ce3-3bd0-425a-ff57-0fa85e9a3565"
      },
      "source": [
        "!wget \"https://github.com/CALDISS-AAU/sdsphd21/raw/master/datasets/NUTS_RG_20M_2021_3035_LEVL_2.shp.zip\"\n",
        "!unzip NUTS_RG_20M_2021_3035_LEVL_2.shp.zip"
      ],
      "execution_count": null,
      "outputs": [
        {
          "name": "stdout",
          "output_type": "stream",
          "text": [
            "--2021-11-23 13:45:56--  https://github.com/CALDISS-AAU/sdsphd21/raw/master/datasets/NUTS_RG_20M_2021_3035_LEVL_2.shp.zip\n",
            "Resolving github.com (github.com)... 140.82.113.4\n",
            "Connecting to github.com (github.com)|140.82.113.4|:443... connected.\n",
            "HTTP request sent, awaiting response... 302 Found\n",
            "Location: https://raw.githubusercontent.com/CALDISS-AAU/sdsphd21/master/datasets/NUTS_RG_20M_2021_3035_LEVL_2.shp.zip [following]\n",
            "--2021-11-23 13:45:56--  https://raw.githubusercontent.com/CALDISS-AAU/sdsphd21/master/datasets/NUTS_RG_20M_2021_3035_LEVL_2.shp.zip\n",
            "Resolving raw.githubusercontent.com (raw.githubusercontent.com)... 185.199.109.133, 185.199.111.133, 185.199.110.133, ...\n",
            "Connecting to raw.githubusercontent.com (raw.githubusercontent.com)|185.199.109.133|:443... connected.\n",
            "HTTP request sent, awaiting response... 200 OK\n",
            "Length: 159016 (155K) [application/zip]\n",
            "Saving to: ‘NUTS_RG_20M_2021_3035_LEVL_2.shp.zip.2’\n",
            "\n",
            "NUTS_RG_20M_2021_30 100%[===================>] 155.29K  --.-KB/s    in 0.01s   \n",
            "\n",
            "2021-11-23 13:45:56 (10.9 MB/s) - ‘NUTS_RG_20M_2021_3035_LEVL_2.shp.zip.2’ saved [159016/159016]\n",
            "\n",
            "Archive:  NUTS_RG_20M_2021_3035_LEVL_2.shp.zip\n",
            "replace NUTS_RG_20M_2021_3035_LEVL_2.cpg? [y]es, [n]o, [A]ll, [N]one, [r]ename: A\n",
            "  inflating: NUTS_RG_20M_2021_3035_LEVL_2.cpg  \n",
            "  inflating: NUTS_RG_20M_2021_3035_LEVL_2.dbf  \n",
            "  inflating: NUTS_RG_20M_2021_3035_LEVL_2.prj  \n",
            "  inflating: NUTS_RG_20M_2021_3035_LEVL_2.shp  \n",
            "  inflating: NUTS_RG_20M_2021_3035_LEVL_2.shx  \n"
          ]
        }
      ]
    },
    {
      "cell_type": "code",
      "metadata": {
        "colab": {
          "base_uri": "https://localhost:8080/",
          "height": 706
        },
        "id": "1gkaJdWd9v02",
        "outputId": "4977f0b3-e051-4974-ab50-d587be6192d5"
      },
      "source": [
        "nuts = gdp.read_file(\"NUTS_RG_20M_2021_3035_LEVL_2.shp\")\n",
        "nuts.plot(figsize=(15,15))"
      ],
      "execution_count": null,
      "outputs": [
        {
          "data": {
            "text/plain": [
              "<matplotlib.axes._subplots.AxesSubplot at 0x7fab970f3110>"
            ]
          },
          "execution_count": 45,
          "metadata": {},
          "output_type": "execute_result"
        },
        {
          "data": {
            "image/png": "[encoded data removed]",
            "text/plain": [
              "<Figure size 1080x1080 with 1 Axes>"
            ]
          },
          "metadata": {
            "needs_background": "light"
          },
          "output_type": "display_data"
        }
      ]
    },
    {
      "cell_type": "markdown",
      "metadata": {
        "id": "RsiqQMhi-VEL"
      },
      "source": [
        "Try to do something cool with the data and map some stuff. Remember; the layer is NUTS level 2, so you need data that fits. Furthermore, you might want to consider a subset of the areas. Country name is specified in the column: \"CNTR_CODE\" and the \"key\" for most statistics in eurostat is \"NUTS_NAME\""
      ]
    },
    {
      "cell_type": "markdown",
      "metadata": {
        "id": "yqUNq8XA4Xfb"
      },
      "source": [
        "## Network analysis: Directed Networks: Friends & Foes at Work (Case Study)"
      ]
    },
    {
      "cell_type": "markdown",
      "metadata": {
        "id": "xUGY4_tm6gKv"
      },
      "source": [
        "### Introduction to the case\n",
        "\n",
        "* Emmanuel Lazega, The Collegial Phenomenon: The Social Mechanisms of Cooperation Among Peers in a Corporate Law Partnership, Oxford University Press (2001).\n",
        "\n",
        "#### Data \n",
        "This data set comes from a network study of corporate law partnership that was carried out in a Northeastern US corporate law firm, referred to as SG&R, 1988-1991 in New England. It includes (among others) measurements of networks among the 71 attorneys (partners and associates) of this firm, i.e. their strong-coworker network, advice network, friendship network, and indirect control networks. Various members' attributes are also part of the dataset, including seniority, formal status, office in which they work, gender, lawschool attended, individual performance measurements (hours worked, fees brought in), attitudes concerning various management policy options, etc. This dataset was used to identify social processes such as bounded solidarity, lateral control, quality control, knowledge sharing, balancing powers, regulation, etc. among peers.\n",
        "\n",
        "#### Setting\n",
        "* What do corporate lawyers do? Litigation and corporate work.\n",
        "* Division of work and interdependencies.\n",
        "* Three offices, no departments, built-in pressures to grow, intake and assignment rules.\n",
        "* Partners and associates: hierarchy, up or out rule, billing targets.\n",
        "* Partnership agreement (sharing benefits equally, 90% exclusion rule, governance structure, elusive committee system) and incompleteness of the contracts.\n",
        "* Informal, unwritten rules (ex: no moonlighting, no investment in buildings, no nepotism, no borrowing to pay partners, etc.).\n",
        "* Huge incentives to behave opportunistically ; thus the dataset is appropriate for the study of social processes that make cooperation among rival partners possible. \n",
        "* Sociometric name generators used to elicit coworkers, advice, and 'friendship' ties at SG&R:\"Here is the list of all the members of your Firm.\"\n",
        "\n",
        "The networks where created according to the follwoing questionaire:\n",
        "\n",
        "* Strong coworkers network: \"Because most firms like yours are also organized very informally, it is difficult to get a clear idea of how the members really work together. Think back over the past year, consider all the lawyers in your Firm. Would you go through this list and check the names of those with whom you have worked with. By \"worked with\" I mean that you have spent time together on at least one case, that you have been assigned to the same case, that they read or used your work product or that you have read or used their work product; this includes professional work done within the Firm like Bar association work, administration, etc.\"\n",
        "* Basic advice network: \"Think back over the past year, consider all the lawyers in your Firm. To whom did you go for basic professional advice? For instance, you want to make sure that you are handling a case right, making a proper decision, and you want to consult someone whose professional opinions are in general of great value to you. By advice I do not mean simply technical advice.\"\n",
        "* 'Friendship' network:\n",
        "\"Would you go through this list, and check the names of those you socialize with outside work. You know their family, they know yours, for instance. I do not mean all the people you are simply on a friendly level with, or people you happen to meet at Firm functions.\" "
      ]
    },
    {
      "cell_type": "markdown",
      "metadata": {
        "id": "iqZlW3YcDseu"
      },
      "source": [
        "### Data preperation"
      ]
    },
    {
      "cell_type": "markdown",
      "metadata": {
        "id": "-ac9ru1aDseu"
      },
      "source": [
        "#### Packages"
      ]
    },
    {
      "cell_type": "code",
      "metadata": {
        "id": "QVpLaHWODseu"
      },
      "source": [
        "# Installing visualization packages\n",
        "!pip install -U bokeh\n",
        "!pip install -q holoviews"
      ],
      "execution_count": null,
      "outputs": []
    },
    {
      "cell_type": "code",
      "metadata": {
        "id": "2zK3ODrdDseu"
      },
      "source": [
        "import numpy as np\n",
        "import pandas as pd\n",
        "import matplotlib.pyplot as plt\n",
        "import seaborn as sb\n",
        "import itertools # Python's amazing iteration & combination library\n",
        "import networkx as nx"
      ],
      "execution_count": null,
      "outputs": []
    },
    {
      "cell_type": "code",
      "metadata": {
        "id": "1XEoyW1qDsev"
      },
      "source": [
        "# Visualization defaults\n",
        "import holoviews as hv\n",
        "from holoviews import opts\n",
        "hv.extension('bokeh')\n",
        "from bokeh.plotting import show\n",
        "\n",
        "# Setting the default figure size a bit larger\n",
        "defaults = dict(width=750, height=750, padding=0.1,\n",
        "                xaxis=None, yaxis=None)\n",
        "hv.opts.defaults(\n",
        "    opts.EdgePaths(**defaults), opts.Graph(**defaults), opts.Nodes(**defaults))"
      ],
      "execution_count": null,
      "outputs": []
    },
    {
      "cell_type": "markdown",
      "metadata": {
        "id": "if1cPg6k6imS"
      },
      "source": [
        "####  Load the data\n",
        "\n",
        "Lets load the data! The three networks refer to cowork, friendship, and advice. The first 36 respondents are the partners in the firm.\n",
        "\n",
        "(the cell belows reads in the tables, performs some recoding and cleanup and creates network objects for the 3 data sets)."
      ]
    },
    {
      "cell_type": "code",
      "metadata": {
        "id": "71deTXch7iSr"
      },
      "source": [
        "mat_friendship = pd.read_table(\"https://www.dropbox.com/s/0saiulir3pr566k/ELfriend.dat?dl=1\", delim_whitespace=True, header=None) \n",
        "mat_advice = pd.read_table(\"https://www.dropbox.com/s/apq42n1grim23k9/ELadv.dat?dl=1\", delim_whitespace=True, header=None) \n",
        "mat_work = pd.read_table(\"https://www.dropbox.com/s/dliz0sd7or8tv01/ELwork.dat?dl=1\", delim_whitespace=True, header=None)\n",
        "\n",
        "G_friendship = nx.from_pandas_adjacency(mat_friendship, create_using=nx.DiGraph)\n",
        "G_advice = nx.from_pandas_adjacency(mat_advice, create_using=nx.DiGraph)\n",
        "G_work = nx.from_pandas_adjacency(mat_work, create_using=nx.DiGraph)\n",
        "\n",
        "attributes = pd.read_table(\"https://www.dropbox.com/s/qz7fvfgx8lvjgpr/ELattr.dat?dl=1\", delim_whitespace=True, header=None, dtype='int') \n",
        "attributes=attributes.round().astype(int)\n",
        "attributes.columns = [\"id\", \"seniority\", \"gender\", \"office\", \"tenure\", \"age\", \"practice\", \"school\"]\n",
        "attributes.set_index('id',inplace=True)\n",
        "\n",
        "cleanup_nums = {\"seniority\":     {1: \"Partner\", 2: \"Associate\"},\n",
        "                \"gender\":     {1: \"Male\", 2: \"Female\"},\n",
        "                \"office\":     {1: \"Boston\", 2: \"Hartford\", 3:\"Providence\"},\n",
        "                \"practice\":     {1: \"Litigation\", 2: \"Corporate\"},\n",
        "                \"school\":     {1: \"Harvard, Yale\", 2: \"Ucon\", 3: \"Others\"}\n",
        "                } \n",
        "attributes.replace(cleanup_nums, inplace=True)\n",
        "\n",
        "attributes_dict=attributes.T.to_dict()\n",
        "\n",
        "nx.set_node_attributes(G_friendship, attributes_dict)\n",
        "nx.set_node_attributes(G_advice, attributes_dict)\n",
        "nx.set_node_attributes(G_work, attributes_dict)\n",
        "\n",
        "print(nx.get_node_attributes(G_friendship, 'seniority'))"
      ],
      "execution_count": null,
      "outputs": []
    },
    {
      "cell_type": "markdown",
      "metadata": {
        "id": "BWsWIvDeMS3o"
      },
      "source": [
        "#### Calculate dimensional centralities\n",
        "\n",
        "There might be better ways to do that (still experimenting), but for now lets first create centralities upfront for all networks. We for now only look at the in-degree."
      ]
    },
    {
      "cell_type": "code",
      "metadata": {
        "id": "KgkLkBk1YbXS"
      },
      "source": [
        "cent_degree_friendship = dict(G_friendship.in_degree)\n",
        "cent_degree_advice = dict(G_advice.in_degree)\n",
        "cent_degree_work = dict(G_work.in_degree)"
      ],
      "execution_count": null,
      "outputs": []
    },
    {
      "cell_type": "code",
      "metadata": {
        "id": "3hJAhy_yY0Xq"
      },
      "source": [
        "nx.set_node_attributes(G_friendship, cent_degree_friendship, 'cent_degree')\n",
        "nx.set_node_attributes(G_advice, cent_degree_advice, 'cent_degree')\n",
        "nx.set_node_attributes(G_work, cent_degree_work, 'cent_degree')"
      ],
      "execution_count": null,
      "outputs": []
    },
    {
      "cell_type": "code",
      "metadata": {
        "id": "88gPV3VKMxOT"
      },
      "source": [
        "# Create and save a layout.\n",
        "G_layout = nx.layout.kamada_kawai_layout(G_work)"
      ],
      "execution_count": null,
      "outputs": []
    },
    {
      "cell_type": "code",
      "metadata": {
        "id": "C6a5uk1rM8Yl"
      },
      "source": [
        "g_plot = hv.Graph.from_networkx(G_friendship, G_layout).opts(tools=['hover'],\n",
        "                                                                        directed=True,\n",
        "                                                                        edge_alpha=0.25,\n",
        "                                                                        node_size='cent_degree',\n",
        "                                                                        #node_color='seniority', cmap='Set1',\n",
        "                                                                        legend_position='right'\n",
        "                                                                        )\n",
        "\n",
        "show(hv.render(g_plot))"
      ],
      "execution_count": null,
      "outputs": []
    },
    {
      "cell_type": "code",
      "metadata": {
        "id": "HXH5FO3BTEKz"
      },
      "source": [
        "g_plot = hv.Graph.from_networkx(G_advice, G_layout).opts(tools=['hover'],\n",
        "                                                                        directed=True,\n",
        "                                                                        edge_alpha=0.25,\n",
        "                                                                        node_size='cent_degree',\n",
        "                                                                        #node_color='cent_degree', cmap='Set1',\n",
        "                                                                        legend_position='right')\n",
        "show(hv.render(g_plot))"
      ],
      "execution_count": null,
      "outputs": []
    },
    {
      "cell_type": "code",
      "metadata": {
        "id": "mBtSaFIEcV6D"
      },
      "source": [
        "g_plot = hv.Graph.from_networkx(G_work, G_layout).opts(tools=['hover'],\n",
        "                                                                        directed=True,\n",
        "                                                                        edge_alpha=0.25,\n",
        "                                                                        node_size='cent_degree',\n",
        "                                                                        #node_color='seniority', cmap='Set1',\n",
        "                                                                        legend_position='right')\n",
        "show(hv.render(g_plot))"
      ],
      "execution_count": null,
      "outputs": []
    },
    {
      "cell_type": "markdown",
      "metadata": {
        "id": "JvmBMVQm7vnK"
      },
      "source": [
        "#### Assortiativity\n",
        "\n",
        "We can also calculate another interested measure, particularly in social networks: Assortiativity. In a nutshell, it measures if two nodes that share certain characteristics ahve a higher or lower probability to be connected.\n",
        "\n",
        "For details, check:\n",
        "\n",
        "* Newman, M. E. J. (27 February 2003). \"Mixing patterns in networks\". Physical Review E. American Physical Society (APS). 67 (2): 026126"
      ]
    },
    {
      "cell_type": "code",
      "metadata": {
        "id": "HWKHXIc5skJL"
      },
      "source": [
        "nx.attribute_assortativity_coefficient(G_friendship, 'seniority')"
      ],
      "execution_count": null,
      "outputs": []
    },
    {
      "cell_type": "code",
      "metadata": {
        "id": "d4gz_Wbg7UZT"
      },
      "source": [
        "nx.attribute_assortativity_coefficient(G_friendship, 'school')"
      ],
      "execution_count": null,
      "outputs": []
    },
    {
      "cell_type": "code",
      "metadata": {
        "id": "FK9n01K47d_D"
      },
      "source": [
        "nx.attribute_assortativity_coefficient(G_friendship, 'office')"
      ],
      "execution_count": null,
      "outputs": []
    },
    {
      "cell_type": "markdown",
      "metadata": {
        "id": "MbOzP1X_71pH"
      },
      "source": [
        "#### Reciprocity\n",
        "\n",
        "Anotyher interesting question usually is, if directed edges are reciptocated, meaning that an edge between `i,j` makes an edge between `j,i` more likely"
      ]
    },
    {
      "cell_type": "code",
      "metadata": {
        "id": "unMN2vQp7_Ka"
      },
      "source": [
        "nx.overall_reciprocity(G_friendship)"
      ],
      "execution_count": null,
      "outputs": []
    },
    {
      "cell_type": "markdown",
      "metadata": {
        "id": "e8Ats3vnDsew"
      },
      "source": [
        "### The assignment\n",
        "\n",
        "Explore the network further.\n",
        "\n",
        "1. Calculate the reciprocity for the work and advise network. Are the numbers diffetrent? Why might that be the case?\n",
        "2. Identify communities in the friendship and advice network (hint: works only on undirected networks, so you might have to create an undirected graph)\n",
        "3. Visualize these communities (static or dynamic)"
      ]
    },
    {
      "cell_type": "markdown",
      "metadata": {
        "id": "SpdMNr_xiA_O"
      },
      "source": [
        "# Thursday: NLP\n",
        "\n",
        "![](https://sds-aau.github.io/SDS-2021/images/elon.jpg)\n",
        "\n",
        "The site [https://faketrump.ai/](https://faketrump.ai/) **WAS** an interesting example of AI-powered fake-text generation. They wrote in 2019:\n",
        "\n",
        ">We built an artificial intelligence model by fine-tuning [GPT-2](https://openai.com/blog/better-language-models/) to generate tweets in the style of Donald Trump’s Twitter account. After seeing the results, we also built a discriminator that can accurately detect fake tweets 77% of the time — think you can beat our classifier? Try it yourself!\n",
        "\n",
        "Unfortunately, they decided to take down the site and the dataset. Also Tump is gone...\n",
        "Therefore: Elon it is!\n",
        "\n",
        "GPT-2 is a neural transformer-based model, that has been announced by OpenAI in February 2019 and created considerable discussion because they decided - in contrast to their earlier policies - not to release the mode to the public. Their central argument was that the model could be used to produce fake news, spam and alike too easily. The footnote of the faketrump page reads: “Generating realistic fake text has become much more accessible. We hope to highlight the current state of text generation to demonstrate how difficult it is to discern fiction from reality.”\n",
        "\n",
        "\n",
        "Since then several organizations and researchers have shown that it is [possible to develop systems to detect “fake text”](https://www.theguardian.com/technology/2019/jul/04/ai-fake-text-gpt-2-concerns-false-information). We believe that you too can implement a competitive system.\n",
        "\n",
        "Having no dataset from that projects, Roman decided to retrain GPT-2 to generate new fake Elon tweets. If they can do that, we can do that! However, it seems as if it is easier for ML models to identify our fake tweets...well...they are an AI company and probably spent more time on that...\n",
        "\n",
        "Here some examples:\n",
        "\n",
        "> We’ll only do one or two at a time. @S@Erdayastronaut @SpaceX SN4 with F9 engine is ~$3M in cost &amp; Starship is ~$100M in production. Only ~$100M with F9 booster._Padival @Tesla Will update with any situation. It was meant to be obvious.\n",
        "\n",
        "> @Erdayastronaut @SpaceX SN4 with F9 engine is ~$3M in cost &amp; Starship is ~$100M in production. Only ~$100M with F9 booster.\n",
        "\n",
        "> If you buy a car, you will get a self-driving car that works best on any climate, no matter how smoggy. We’re fixing that.\n",
        "\n",
        " The data can be found [here](https://github.com/SDS-AAU/SDS-master/raw/master/M3/assignments/find_elon.gz) and has the following format:\n",
        "\n",
        "| tweet  | real    |\n",
        "|--------|---------|\n",
        "| string | boolean |\n",
        "\n",
        "There are 1577 real Elon tweets and 1577 fake ones.\n",
        "\n",
        "Your job is to train and apply a supervised machine learning model to detect fake Elon tweets!"
      ]
    }
  ]
}